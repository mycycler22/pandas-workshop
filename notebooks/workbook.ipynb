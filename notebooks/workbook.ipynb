{
  "cells": [
    {
      "cell_type": "markdown",
      "id": "770a499f-fa07-4ca0-8ddd-c50e76eb0599",
      "metadata": {
        "tags": [],
        "id": "770a499f-fa07-4ca0-8ddd-c50e76eb0599"
      },
      "source": [
        "# Workbook\n",
        "\n",
        "Use this notebook to complete the exercises throughout the workshop.\n",
        "\n",
        "#### Table of Contents\n",
        "- [Section 1 &ndash; Getting Started with Pandas](#Section-1)\n",
        "- [Section 2 &ndash; Data Wrangling](#Section-2)\n",
        "- [Section 3 &ndash; Data Visualization](#Section-3)\n",
        "\n",
        "---\n",
        "\n",
        "### Section 1\n",
        "\n",
        "#### Exercise 1.1\n",
        "##### Create a DataFrame by reading in the `2019_Yellow_Taxi_Trip_Data.csv` file. Examine the first 5 rows."
      ]
    },
    {
      "cell_type": "code",
      "execution_count": 24,
      "id": "aa449dc1-4c0b-47ce-bba7-061568590d97",
      "metadata": {
        "id": "aa449dc1-4c0b-47ce-bba7-061568590d97",
        "outputId": "a8724c7b-8495-4e7d-d987-e442f0b52b36",
        "colab": {
          "base_uri": "https://localhost:8080/",
          "height": 226
        }
      },
      "outputs": [
        {
          "output_type": "execute_result",
          "data": {
            "text/plain": [
              "   vendorid     tpep_pickup_datetime    tpep_dropoff_datetime  \\\n",
              "0         2  2019-10-23T16:39:42.000  2019-10-23T17:14:10.000   \n",
              "1         1  2019-10-23T16:32:08.000  2019-10-23T16:45:26.000   \n",
              "2         2  2019-10-23T16:08:44.000  2019-10-23T16:21:11.000   \n",
              "3         2  2019-10-23T16:22:44.000  2019-10-23T16:43:26.000   \n",
              "4         2  2019-10-23T16:45:11.000  2019-10-23T16:58:49.000   \n",
              "\n",
              "   passenger_count  trip_distance  ratecodeid store_and_fwd_flag  \\\n",
              "0                1           7.93           1                  N   \n",
              "1                1           2.00           1                  N   \n",
              "2                1           1.36           1                  N   \n",
              "3                1           1.00           1                  N   \n",
              "4                1           1.96           1                  N   \n",
              "\n",
              "   pulocationid  dolocationid  payment_type  fare_amount  extra  mta_tax  \\\n",
              "0           138           170             1         29.5    1.0      0.5   \n",
              "1            11            26             1         10.5    1.0      0.5   \n",
              "2           163           162             1          9.5    1.0      0.5   \n",
              "3           170           163             1         13.0    1.0      0.5   \n",
              "4           163           236             1         10.5    1.0      0.5   \n",
              "\n",
              "   tip_amount  tolls_amount  improvement_surcharge  total_amount  \\\n",
              "0        7.98          6.12                    0.3         47.90   \n",
              "1        0.00          0.00                    0.3         12.30   \n",
              "2        2.00          0.00                    0.3         15.80   \n",
              "3        4.32          0.00                    0.3         21.62   \n",
              "4        0.50          0.00                    0.3         15.30   \n",
              "\n",
              "   congestion_surcharge  \n",
              "0                   2.5  \n",
              "1                   0.0  \n",
              "2                   2.5  \n",
              "3                   2.5  \n",
              "4                   2.5  "
            ],
            "text/html": [
              "\n",
              "  <div id=\"df-cfee7358-9337-4fca-9f68-dcd7847c0c42\" class=\"colab-df-container\">\n",
              "    <div>\n",
              "<style scoped>\n",
              "    .dataframe tbody tr th:only-of-type {\n",
              "        vertical-align: middle;\n",
              "    }\n",
              "\n",
              "    .dataframe tbody tr th {\n",
              "        vertical-align: top;\n",
              "    }\n",
              "\n",
              "    .dataframe thead th {\n",
              "        text-align: right;\n",
              "    }\n",
              "</style>\n",
              "<table border=\"1\" class=\"dataframe\">\n",
              "  <thead>\n",
              "    <tr style=\"text-align: right;\">\n",
              "      <th></th>\n",
              "      <th>vendorid</th>\n",
              "      <th>tpep_pickup_datetime</th>\n",
              "      <th>tpep_dropoff_datetime</th>\n",
              "      <th>passenger_count</th>\n",
              "      <th>trip_distance</th>\n",
              "      <th>ratecodeid</th>\n",
              "      <th>store_and_fwd_flag</th>\n",
              "      <th>pulocationid</th>\n",
              "      <th>dolocationid</th>\n",
              "      <th>payment_type</th>\n",
              "      <th>fare_amount</th>\n",
              "      <th>extra</th>\n",
              "      <th>mta_tax</th>\n",
              "      <th>tip_amount</th>\n",
              "      <th>tolls_amount</th>\n",
              "      <th>improvement_surcharge</th>\n",
              "      <th>total_amount</th>\n",
              "      <th>congestion_surcharge</th>\n",
              "    </tr>\n",
              "  </thead>\n",
              "  <tbody>\n",
              "    <tr>\n",
              "      <th>0</th>\n",
              "      <td>2</td>\n",
              "      <td>2019-10-23T16:39:42.000</td>\n",
              "      <td>2019-10-23T17:14:10.000</td>\n",
              "      <td>1</td>\n",
              "      <td>7.93</td>\n",
              "      <td>1</td>\n",
              "      <td>N</td>\n",
              "      <td>138</td>\n",
              "      <td>170</td>\n",
              "      <td>1</td>\n",
              "      <td>29.5</td>\n",
              "      <td>1.0</td>\n",
              "      <td>0.5</td>\n",
              "      <td>7.98</td>\n",
              "      <td>6.12</td>\n",
              "      <td>0.3</td>\n",
              "      <td>47.90</td>\n",
              "      <td>2.5</td>\n",
              "    </tr>\n",
              "    <tr>\n",
              "      <th>1</th>\n",
              "      <td>1</td>\n",
              "      <td>2019-10-23T16:32:08.000</td>\n",
              "      <td>2019-10-23T16:45:26.000</td>\n",
              "      <td>1</td>\n",
              "      <td>2.00</td>\n",
              "      <td>1</td>\n",
              "      <td>N</td>\n",
              "      <td>11</td>\n",
              "      <td>26</td>\n",
              "      <td>1</td>\n",
              "      <td>10.5</td>\n",
              "      <td>1.0</td>\n",
              "      <td>0.5</td>\n",
              "      <td>0.00</td>\n",
              "      <td>0.00</td>\n",
              "      <td>0.3</td>\n",
              "      <td>12.30</td>\n",
              "      <td>0.0</td>\n",
              "    </tr>\n",
              "    <tr>\n",
              "      <th>2</th>\n",
              "      <td>2</td>\n",
              "      <td>2019-10-23T16:08:44.000</td>\n",
              "      <td>2019-10-23T16:21:11.000</td>\n",
              "      <td>1</td>\n",
              "      <td>1.36</td>\n",
              "      <td>1</td>\n",
              "      <td>N</td>\n",
              "      <td>163</td>\n",
              "      <td>162</td>\n",
              "      <td>1</td>\n",
              "      <td>9.5</td>\n",
              "      <td>1.0</td>\n",
              "      <td>0.5</td>\n",
              "      <td>2.00</td>\n",
              "      <td>0.00</td>\n",
              "      <td>0.3</td>\n",
              "      <td>15.80</td>\n",
              "      <td>2.5</td>\n",
              "    </tr>\n",
              "    <tr>\n",
              "      <th>3</th>\n",
              "      <td>2</td>\n",
              "      <td>2019-10-23T16:22:44.000</td>\n",
              "      <td>2019-10-23T16:43:26.000</td>\n",
              "      <td>1</td>\n",
              "      <td>1.00</td>\n",
              "      <td>1</td>\n",
              "      <td>N</td>\n",
              "      <td>170</td>\n",
              "      <td>163</td>\n",
              "      <td>1</td>\n",
              "      <td>13.0</td>\n",
              "      <td>1.0</td>\n",
              "      <td>0.5</td>\n",
              "      <td>4.32</td>\n",
              "      <td>0.00</td>\n",
              "      <td>0.3</td>\n",
              "      <td>21.62</td>\n",
              "      <td>2.5</td>\n",
              "    </tr>\n",
              "    <tr>\n",
              "      <th>4</th>\n",
              "      <td>2</td>\n",
              "      <td>2019-10-23T16:45:11.000</td>\n",
              "      <td>2019-10-23T16:58:49.000</td>\n",
              "      <td>1</td>\n",
              "      <td>1.96</td>\n",
              "      <td>1</td>\n",
              "      <td>N</td>\n",
              "      <td>163</td>\n",
              "      <td>236</td>\n",
              "      <td>1</td>\n",
              "      <td>10.5</td>\n",
              "      <td>1.0</td>\n",
              "      <td>0.5</td>\n",
              "      <td>0.50</td>\n",
              "      <td>0.00</td>\n",
              "      <td>0.3</td>\n",
              "      <td>15.30</td>\n",
              "      <td>2.5</td>\n",
              "    </tr>\n",
              "  </tbody>\n",
              "</table>\n",
              "</div>\n",
              "    <div class=\"colab-df-buttons\">\n",
              "\n",
              "  <div class=\"colab-df-container\">\n",
              "    <button class=\"colab-df-convert\" onclick=\"convertToInteractive('df-cfee7358-9337-4fca-9f68-dcd7847c0c42')\"\n",
              "            title=\"Convert this dataframe to an interactive table.\"\n",
              "            style=\"display:none;\">\n",
              "\n",
              "  <svg xmlns=\"http://www.w3.org/2000/svg\" height=\"24px\" viewBox=\"0 -960 960 960\">\n",
              "    <path d=\"M120-120v-720h720v720H120Zm60-500h600v-160H180v160Zm220 220h160v-160H400v160Zm0 220h160v-160H400v160ZM180-400h160v-160H180v160Zm440 0h160v-160H620v160ZM180-180h160v-160H180v160Zm440 0h160v-160H620v160Z\"/>\n",
              "  </svg>\n",
              "    </button>\n",
              "\n",
              "  <style>\n",
              "    .colab-df-container {\n",
              "      display:flex;\n",
              "      gap: 12px;\n",
              "    }\n",
              "\n",
              "    .colab-df-convert {\n",
              "      background-color: #E8F0FE;\n",
              "      border: none;\n",
              "      border-radius: 50%;\n",
              "      cursor: pointer;\n",
              "      display: none;\n",
              "      fill: #1967D2;\n",
              "      height: 32px;\n",
              "      padding: 0 0 0 0;\n",
              "      width: 32px;\n",
              "    }\n",
              "\n",
              "    .colab-df-convert:hover {\n",
              "      background-color: #E2EBFA;\n",
              "      box-shadow: 0px 1px 2px rgba(60, 64, 67, 0.3), 0px 1px 3px 1px rgba(60, 64, 67, 0.15);\n",
              "      fill: #174EA6;\n",
              "    }\n",
              "\n",
              "    .colab-df-buttons div {\n",
              "      margin-bottom: 4px;\n",
              "    }\n",
              "\n",
              "    [theme=dark] .colab-df-convert {\n",
              "      background-color: #3B4455;\n",
              "      fill: #D2E3FC;\n",
              "    }\n",
              "\n",
              "    [theme=dark] .colab-df-convert:hover {\n",
              "      background-color: #434B5C;\n",
              "      box-shadow: 0px 1px 3px 1px rgba(0, 0, 0, 0.15);\n",
              "      filter: drop-shadow(0px 1px 2px rgba(0, 0, 0, 0.3));\n",
              "      fill: #FFFFFF;\n",
              "    }\n",
              "  </style>\n",
              "\n",
              "    <script>\n",
              "      const buttonEl =\n",
              "        document.querySelector('#df-cfee7358-9337-4fca-9f68-dcd7847c0c42 button.colab-df-convert');\n",
              "      buttonEl.style.display =\n",
              "        google.colab.kernel.accessAllowed ? 'block' : 'none';\n",
              "\n",
              "      async function convertToInteractive(key) {\n",
              "        const element = document.querySelector('#df-cfee7358-9337-4fca-9f68-dcd7847c0c42');\n",
              "        const dataTable =\n",
              "          await google.colab.kernel.invokeFunction('convertToInteractive',\n",
              "                                                    [key], {});\n",
              "        if (!dataTable) return;\n",
              "\n",
              "        const docLinkHtml = 'Like what you see? Visit the ' +\n",
              "          '<a target=\"_blank\" href=https://colab.research.google.com/notebooks/data_table.ipynb>data table notebook</a>'\n",
              "          + ' to learn more about interactive tables.';\n",
              "        element.innerHTML = '';\n",
              "        dataTable['output_type'] = 'display_data';\n",
              "        await google.colab.output.renderOutput(dataTable, element);\n",
              "        const docLink = document.createElement('div');\n",
              "        docLink.innerHTML = docLinkHtml;\n",
              "        element.appendChild(docLink);\n",
              "      }\n",
              "    </script>\n",
              "  </div>\n",
              "\n",
              "\n",
              "    <div id=\"df-fb63dbba-907b-4907-86d0-ccc09d860c41\">\n",
              "      <button class=\"colab-df-quickchart\" onclick=\"quickchart('df-fb63dbba-907b-4907-86d0-ccc09d860c41')\"\n",
              "                title=\"Suggest charts\"\n",
              "                style=\"display:none;\">\n",
              "\n",
              "<svg xmlns=\"http://www.w3.org/2000/svg\" height=\"24px\"viewBox=\"0 0 24 24\"\n",
              "     width=\"24px\">\n",
              "    <g>\n",
              "        <path d=\"M19 3H5c-1.1 0-2 .9-2 2v14c0 1.1.9 2 2 2h14c1.1 0 2-.9 2-2V5c0-1.1-.9-2-2-2zM9 17H7v-7h2v7zm4 0h-2V7h2v10zm4 0h-2v-4h2v4z\"/>\n",
              "    </g>\n",
              "</svg>\n",
              "      </button>\n",
              "\n",
              "<style>\n",
              "  .colab-df-quickchart {\n",
              "      --bg-color: #E8F0FE;\n",
              "      --fill-color: #1967D2;\n",
              "      --hover-bg-color: #E2EBFA;\n",
              "      --hover-fill-color: #174EA6;\n",
              "      --disabled-fill-color: #AAA;\n",
              "      --disabled-bg-color: #DDD;\n",
              "  }\n",
              "\n",
              "  [theme=dark] .colab-df-quickchart {\n",
              "      --bg-color: #3B4455;\n",
              "      --fill-color: #D2E3FC;\n",
              "      --hover-bg-color: #434B5C;\n",
              "      --hover-fill-color: #FFFFFF;\n",
              "      --disabled-bg-color: #3B4455;\n",
              "      --disabled-fill-color: #666;\n",
              "  }\n",
              "\n",
              "  .colab-df-quickchart {\n",
              "    background-color: var(--bg-color);\n",
              "    border: none;\n",
              "    border-radius: 50%;\n",
              "    cursor: pointer;\n",
              "    display: none;\n",
              "    fill: var(--fill-color);\n",
              "    height: 32px;\n",
              "    padding: 0;\n",
              "    width: 32px;\n",
              "  }\n",
              "\n",
              "  .colab-df-quickchart:hover {\n",
              "    background-color: var(--hover-bg-color);\n",
              "    box-shadow: 0 1px 2px rgba(60, 64, 67, 0.3), 0 1px 3px 1px rgba(60, 64, 67, 0.15);\n",
              "    fill: var(--button-hover-fill-color);\n",
              "  }\n",
              "\n",
              "  .colab-df-quickchart-complete:disabled,\n",
              "  .colab-df-quickchart-complete:disabled:hover {\n",
              "    background-color: var(--disabled-bg-color);\n",
              "    fill: var(--disabled-fill-color);\n",
              "    box-shadow: none;\n",
              "  }\n",
              "\n",
              "  .colab-df-spinner {\n",
              "    border: 2px solid var(--fill-color);\n",
              "    border-color: transparent;\n",
              "    border-bottom-color: var(--fill-color);\n",
              "    animation:\n",
              "      spin 1s steps(1) infinite;\n",
              "  }\n",
              "\n",
              "  @keyframes spin {\n",
              "    0% {\n",
              "      border-color: transparent;\n",
              "      border-bottom-color: var(--fill-color);\n",
              "      border-left-color: var(--fill-color);\n",
              "    }\n",
              "    20% {\n",
              "      border-color: transparent;\n",
              "      border-left-color: var(--fill-color);\n",
              "      border-top-color: var(--fill-color);\n",
              "    }\n",
              "    30% {\n",
              "      border-color: transparent;\n",
              "      border-left-color: var(--fill-color);\n",
              "      border-top-color: var(--fill-color);\n",
              "      border-right-color: var(--fill-color);\n",
              "    }\n",
              "    40% {\n",
              "      border-color: transparent;\n",
              "      border-right-color: var(--fill-color);\n",
              "      border-top-color: var(--fill-color);\n",
              "    }\n",
              "    60% {\n",
              "      border-color: transparent;\n",
              "      border-right-color: var(--fill-color);\n",
              "    }\n",
              "    80% {\n",
              "      border-color: transparent;\n",
              "      border-right-color: var(--fill-color);\n",
              "      border-bottom-color: var(--fill-color);\n",
              "    }\n",
              "    90% {\n",
              "      border-color: transparent;\n",
              "      border-bottom-color: var(--fill-color);\n",
              "    }\n",
              "  }\n",
              "</style>\n",
              "\n",
              "      <script>\n",
              "        async function quickchart(key) {\n",
              "          const quickchartButtonEl =\n",
              "            document.querySelector('#' + key + ' button');\n",
              "          quickchartButtonEl.disabled = true;  // To prevent multiple clicks.\n",
              "          quickchartButtonEl.classList.add('colab-df-spinner');\n",
              "          try {\n",
              "            const charts = await google.colab.kernel.invokeFunction(\n",
              "                'suggestCharts', [key], {});\n",
              "          } catch (error) {\n",
              "            console.error('Error during call to suggestCharts:', error);\n",
              "          }\n",
              "          quickchartButtonEl.classList.remove('colab-df-spinner');\n",
              "          quickchartButtonEl.classList.add('colab-df-quickchart-complete');\n",
              "        }\n",
              "        (() => {\n",
              "          let quickchartButtonEl =\n",
              "            document.querySelector('#df-fb63dbba-907b-4907-86d0-ccc09d860c41 button');\n",
              "          quickchartButtonEl.style.display =\n",
              "            google.colab.kernel.accessAllowed ? 'block' : 'none';\n",
              "        })();\n",
              "      </script>\n",
              "    </div>\n",
              "\n",
              "    </div>\n",
              "  </div>\n"
            ],
            "application/vnd.google.colaboratory.intrinsic+json": {
              "type": "dataframe",
              "variable_name": "taxis",
              "summary": "{\n  \"name\": \"taxis\",\n  \"rows\": 10000,\n  \"fields\": [\n    {\n      \"column\": \"vendorid\",\n      \"properties\": {\n        \"dtype\": \"number\",\n        \"std\": 0,\n        \"min\": 1,\n        \"max\": 2,\n        \"num_unique_values\": 2,\n        \"samples\": [\n          1,\n          2\n        ],\n        \"semantic_type\": \"\",\n        \"description\": \"\"\n      }\n    },\n    {\n      \"column\": \"tpep_pickup_datetime\",\n      \"properties\": {\n        \"dtype\": \"object\",\n        \"num_unique_values\": 4281,\n        \"samples\": [\n          \"2019-10-23T16:44:33.000\",\n          \"2019-10-23T16:26:46.000\"\n        ],\n        \"semantic_type\": \"\",\n        \"description\": \"\"\n      }\n    },\n    {\n      \"column\": \"tpep_dropoff_datetime\",\n      \"properties\": {\n        \"dtype\": \"object\",\n        \"num_unique_values\": 5079,\n        \"samples\": [\n          \"2019-10-23T17:45:43.000\",\n          \"2019-10-23T17:49:28.000\"\n        ],\n        \"semantic_type\": \"\",\n        \"description\": \"\"\n      }\n    },\n    {\n      \"column\": \"passenger_count\",\n      \"properties\": {\n        \"dtype\": \"number\",\n        \"std\": 1,\n        \"min\": 0,\n        \"max\": 6,\n        \"num_unique_values\": 7,\n        \"samples\": [\n          1,\n          2\n        ],\n        \"semantic_type\": \"\",\n        \"description\": \"\"\n      }\n    },\n    {\n      \"column\": \"trip_distance\",\n      \"properties\": {\n        \"dtype\": \"number\",\n        \"std\": 4.148063386748824,\n        \"min\": 0.0,\n        \"max\": 38.11,\n        \"num_unique_values\": 1243,\n        \"samples\": [\n          5.41,\n          10.29\n        ],\n        \"semantic_type\": \"\",\n        \"description\": \"\"\n      }\n    },\n    {\n      \"column\": \"ratecodeid\",\n      \"properties\": {\n        \"dtype\": \"number\",\n        \"std\": 0,\n        \"min\": 1,\n        \"max\": 5,\n        \"num_unique_values\": 5,\n        \"samples\": [\n          2,\n          4\n        ],\n        \"semantic_type\": \"\",\n        \"description\": \"\"\n      }\n    },\n    {\n      \"column\": \"store_and_fwd_flag\",\n      \"properties\": {\n        \"dtype\": \"category\",\n        \"num_unique_values\": 2,\n        \"samples\": [\n          \"Y\",\n          \"N\"\n        ],\n        \"semantic_type\": \"\",\n        \"description\": \"\"\n      }\n    },\n    {\n      \"column\": \"pulocationid\",\n      \"properties\": {\n        \"dtype\": \"number\",\n        \"std\": 63,\n        \"min\": 1,\n        \"max\": 265,\n        \"num_unique_values\": 129,\n        \"samples\": [\n          24,\n          164\n        ],\n        \"semantic_type\": \"\",\n        \"description\": \"\"\n      }\n    },\n    {\n      \"column\": \"dolocationid\",\n      \"properties\": {\n        \"dtype\": \"number\",\n        \"std\": 68,\n        \"min\": 1,\n        \"max\": 265,\n        \"num_unique_values\": 183,\n        \"samples\": [\n          193,\n          249\n        ],\n        \"semantic_type\": \"\",\n        \"description\": \"\"\n      }\n    },\n    {\n      \"column\": \"payment_type\",\n      \"properties\": {\n        \"dtype\": \"number\",\n        \"std\": 0,\n        \"min\": 1,\n        \"max\": 4,\n        \"num_unique_values\": 4,\n        \"samples\": [\n          2,\n          4\n        ],\n        \"semantic_type\": \"\",\n        \"description\": \"\"\n      }\n    },\n    {\n      \"column\": \"fare_amount\",\n      \"properties\": {\n        \"dtype\": \"number\",\n        \"std\": 13.954761757679899,\n        \"min\": -52.0,\n        \"max\": 176.0,\n        \"num_unique_values\": 199,\n        \"samples\": [\n          42.5,\n          5.0\n        ],\n        \"semantic_type\": \"\",\n        \"description\": \"\"\n      }\n    },\n    {\n      \"column\": \"extra\",\n      \"properties\": {\n        \"dtype\": \"number\",\n        \"std\": 1.392940064388004,\n        \"min\": -4.5,\n        \"max\": 7.0,\n        \"num_unique_values\": 12,\n        \"samples\": [\n          2.05,\n          3.0\n        ],\n        \"semantic_type\": \"\",\n        \"description\": \"\"\n      }\n    },\n    {\n      \"column\": \"mta_tax\",\n      \"properties\": {\n        \"dtype\": \"number\",\n        \"std\": 0.07154375829473356,\n        \"min\": -0.5,\n        \"max\": 0.5,\n        \"num_unique_values\": 3,\n        \"samples\": [\n          0.5,\n          -0.5\n        ],\n        \"semantic_type\": \"\",\n        \"description\": \"\"\n      }\n    },\n    {\n      \"column\": \"tip_amount\",\n      \"properties\": {\n        \"dtype\": \"number\",\n        \"std\": 3.409800031906561,\n        \"min\": 0.0,\n        \"max\": 43.0,\n        \"num_unique_values\": 657,\n        \"samples\": [\n          16.16,\n          5.56\n        ],\n        \"semantic_type\": \"\",\n        \"description\": \"\"\n      }\n    },\n    {\n      \"column\": \"tolls_amount\",\n      \"properties\": {\n        \"dtype\": \"number\",\n        \"std\": 6.437507127609063,\n        \"min\": -6.12,\n        \"max\": 612.0,\n        \"num_unique_values\": 37,\n        \"samples\": [\n          10.0,\n          14.65\n        ],\n        \"semantic_type\": \"\",\n        \"description\": \"\"\n      }\n    },\n    {\n      \"column\": \"improvement_surcharge\",\n      \"properties\": {\n        \"dtype\": \"number\",\n        \"std\": 0.03253684472450732,\n        \"min\": -0.3,\n        \"max\": 0.3,\n        \"num_unique_values\": 3,\n        \"samples\": [\n          0.3,\n          -0.3\n        ],\n        \"semantic_type\": \"\",\n        \"description\": \"\"\n      }\n    },\n    {\n      \"column\": \"total_amount\",\n      \"properties\": {\n        \"dtype\": \"number\",\n        \"std\": 19.209255488783793,\n        \"min\": -65.92,\n        \"max\": 671.8,\n        \"num_unique_values\": 1097,\n        \"samples\": [\n          14.16,\n          85.7\n        ],\n        \"semantic_type\": \"\",\n        \"description\": \"\"\n      }\n    },\n    {\n      \"column\": \"congestion_surcharge\",\n      \"properties\": {\n        \"dtype\": \"number\",\n        \"std\": 0.7209463477704644,\n        \"min\": -2.5,\n        \"max\": 2.75,\n        \"num_unique_values\": 4,\n        \"samples\": [\n          0.0,\n          2.75\n        ],\n        \"semantic_type\": \"\",\n        \"description\": \"\"\n      }\n    }\n  ]\n}"
            }
          },
          "metadata": {},
          "execution_count": 24
        }
      ],
      "source": [
        "\n",
        "\n",
        "\n",
        "import pandas as pd\n",
        "\n",
        "taxis = pd.read_csv('2019_Yellow_Taxi_Trip_Data.csv')\n",
        "\n",
        "taxis.head()\n"
      ]
    },
    {
      "cell_type": "markdown",
      "id": "4d52808c-cb6b-4a2b-a183-5c886bbe6b85",
      "metadata": {
        "id": "4d52808c-cb6b-4a2b-a183-5c886bbe6b85"
      },
      "source": [
        "#### Exercise 1.2\n",
        "##### Find the dimensions (number of rows and number of columns) in the data."
      ]
    },
    {
      "cell_type": "code",
      "execution_count": 20,
      "id": "f4e7275f-4009-4cc9-911d-da92efb79fdd",
      "metadata": {
        "id": "f4e7275f-4009-4cc9-911d-da92efb79fdd",
        "outputId": "b2e14b6b-a6f0-4cb0-b35b-cb1c445d0ce3",
        "colab": {
          "base_uri": "https://localhost:8080/"
        }
      },
      "outputs": [
        {
          "output_type": "stream",
          "name": "stdout",
          "text": [
            "18\n"
          ]
        }
      ],
      "source": [
        "taxi_list = taxis.columns\n",
        "\n",
        "print(len(taxi_list))\n",
        "\n",
        "# 18 columns"
      ]
    },
    {
      "cell_type": "code",
      "source": [
        "taxis.index\n",
        "\n",
        "# 10000 rows of data"
      ],
      "metadata": {
        "id": "kZprtj7rDrB2",
        "outputId": "4dc01ebd-6434-4a09-e161-a8ae721c9f72",
        "colab": {
          "base_uri": "https://localhost:8080/"
        }
      },
      "id": "kZprtj7rDrB2",
      "execution_count": 13,
      "outputs": [
        {
          "output_type": "execute_result",
          "data": {
            "text/plain": [
              "RangeIndex(start=0, stop=10000, step=1)"
            ]
          },
          "metadata": {},
          "execution_count": 13
        }
      ]
    },
    {
      "cell_type": "code",
      "source": [
        "taxis.shape\n",
        "\n",
        "#10000 rows and 18 columns"
      ],
      "metadata": {
        "id": "2ZR09No_Fhli",
        "outputId": "546dd8ca-e020-4f81-a327-89f81282c10d",
        "colab": {
          "base_uri": "https://localhost:8080/"
        }
      },
      "id": "2ZR09No_Fhli",
      "execution_count": 21,
      "outputs": [
        {
          "output_type": "execute_result",
          "data": {
            "text/plain": [
              "(10000, 18)"
            ]
          },
          "metadata": {},
          "execution_count": 21
        }
      ]
    },
    {
      "cell_type": "markdown",
      "id": "b4e9aa37-a244-4e4c-8caa-9d13ca8c7f71",
      "metadata": {
        "tags": [],
        "id": "b4e9aa37-a244-4e4c-8caa-9d13ca8c7f71"
      },
      "source": [
        "#### Exercise 1.3\n",
        "##### Using the data in the `2019_Yellow_Taxi_Trip_Data.csv` file, calculate summary statistics for the `fare_amount`, `tip_amount`, `tolls_amount`, and `total_amount` columns."
      ]
    },
    {
      "cell_type": "code",
      "execution_count": 30,
      "id": "8577fc58-fd5f-412b-aa2e-50c541c5778b",
      "metadata": {
        "id": "8577fc58-fd5f-412b-aa2e-50c541c5778b",
        "outputId": "156488c9-29b8-4f12-fa67-fc41e8a02ce7",
        "colab": {
          "base_uri": "https://localhost:8080/"
        }
      },
      "outputs": [
        {
          "output_type": "execute_result",
          "data": {
            "text/plain": [
              "np.float64(15.11)"
            ]
          },
          "metadata": {},
          "execution_count": 30
        }
      ],
      "source": [
        "\n",
        "round(taxis['fare_amount'].mean(), 2)\n"
      ]
    },
    {
      "cell_type": "code",
      "source": [
        "taxis['fare_amount'].median()\n"
      ],
      "metadata": {
        "id": "a-f-4ScDGUus",
        "outputId": "f0ce67d4-2f4d-410f-a96b-6725978b2f4b",
        "colab": {
          "base_uri": "https://localhost:8080/"
        }
      },
      "id": "a-f-4ScDGUus",
      "execution_count": 25,
      "outputs": [
        {
          "output_type": "execute_result",
          "data": {
            "text/plain": [
              "10.0"
            ]
          },
          "metadata": {},
          "execution_count": 25
        }
      ]
    },
    {
      "cell_type": "code",
      "source": [
        "round(taxis['tip_amount'].mean(),2)\n",
        "\n"
      ],
      "metadata": {
        "id": "1FvIMNeEGcpL",
        "outputId": "bde22c81-8597-406b-ead6-fff89e582c1c",
        "colab": {
          "base_uri": "https://localhost:8080/"
        }
      },
      "id": "1FvIMNeEGcpL",
      "execution_count": 31,
      "outputs": [
        {
          "output_type": "execute_result",
          "data": {
            "text/plain": [
              "np.float64(2.63)"
            ]
          },
          "metadata": {},
          "execution_count": 31
        }
      ]
    },
    {
      "cell_type": "code",
      "source": [
        "taxis['tip_amount'].median()"
      ],
      "metadata": {
        "id": "we34RKh1Gkws",
        "outputId": "f1eb114c-0108-4190-8ece-416528863c7a",
        "colab": {
          "base_uri": "https://localhost:8080/"
        }
      },
      "id": "we34RKh1Gkws",
      "execution_count": 33,
      "outputs": [
        {
          "output_type": "execute_result",
          "data": {
            "text/plain": [
              "2.0"
            ]
          },
          "metadata": {},
          "execution_count": 33
        }
      ]
    },
    {
      "cell_type": "code",
      "source": [
        "round(taxis['tolls_amount'].mean(), 2)"
      ],
      "metadata": {
        "id": "bp2Sd6rIHBQI",
        "outputId": "2717dd27-ac60-4534-95e7-568c2db45fba",
        "colab": {
          "base_uri": "https://localhost:8080/"
        }
      },
      "id": "bp2Sd6rIHBQI",
      "execution_count": 34,
      "outputs": [
        {
          "output_type": "execute_result",
          "data": {
            "text/plain": [
              "np.float64(0.62)"
            ]
          },
          "metadata": {},
          "execution_count": 34
        }
      ]
    },
    {
      "cell_type": "code",
      "source": [
        "taxis['tolls_amount'].median()"
      ],
      "metadata": {
        "id": "JIQQGHZ1HRWD",
        "outputId": "bb075b60-2261-4deb-e778-72c0f9df8291",
        "colab": {
          "base_uri": "https://localhost:8080/"
        }
      },
      "id": "JIQQGHZ1HRWD",
      "execution_count": 35,
      "outputs": [
        {
          "output_type": "execute_result",
          "data": {
            "text/plain": [
              "0.0"
            ]
          },
          "metadata": {},
          "execution_count": 35
        }
      ]
    },
    {
      "cell_type": "code",
      "source": [
        "round(taxis['total_amount'].mean(), 2)"
      ],
      "metadata": {
        "id": "5suJZKvrHb66",
        "outputId": "3728ae8e-6758-4c0c-c37b-037ad8bfc963",
        "colab": {
          "base_uri": "https://localhost:8080/"
        }
      },
      "id": "5suJZKvrHb66",
      "execution_count": 36,
      "outputs": [
        {
          "output_type": "execute_result",
          "data": {
            "text/plain": [
              "np.float64(22.56)"
            ]
          },
          "metadata": {},
          "execution_count": 36
        }
      ]
    },
    {
      "cell_type": "code",
      "source": [
        "taxis['total_amount'].median()"
      ],
      "metadata": {
        "id": "JBfjIm7BHgzH",
        "outputId": "5e99f7d4-d475-4cdb-e9dc-4ab952425368",
        "colab": {
          "base_uri": "https://localhost:8080/"
        }
      },
      "id": "JBfjIm7BHgzH",
      "execution_count": 37,
      "outputs": [
        {
          "output_type": "execute_result",
          "data": {
            "text/plain": [
              "16.3"
            ]
          },
          "metadata": {},
          "execution_count": 37
        }
      ]
    },
    {
      "cell_type": "code",
      "source": [
        "taxis['total_amount'].max()"
      ],
      "metadata": {
        "id": "Omq0k6EmH2nw",
        "outputId": "d7d97c0d-7d0c-4121-e100-c94bf8db6305",
        "colab": {
          "base_uri": "https://localhost:8080/"
        }
      },
      "id": "Omq0k6EmH2nw",
      "execution_count": 38,
      "outputs": [
        {
          "output_type": "execute_result",
          "data": {
            "text/plain": [
              "671.8"
            ]
          },
          "metadata": {},
          "execution_count": 38
        }
      ]
    },
    {
      "cell_type": "markdown",
      "id": "4fbf547b-a273-4327-b17a-2c10a58b96bc",
      "metadata": {
        "tags": [],
        "id": "4fbf547b-a273-4327-b17a-2c10a58b96bc"
      },
      "source": [
        "#### Exercise 1.4\n",
        "##### Isolate the `fare_amount`, `tip_amount`, `tolls_amount`, and `total_amount` for the longest trip by distance (`trip_distance`)."
      ]
    },
    {
      "cell_type": "code",
      "execution_count": 49,
      "id": "dc75ecfc-19b5-438b-b078-eaf7cfc3e7f3",
      "metadata": {
        "id": "dc75ecfc-19b5-438b-b078-eaf7cfc3e7f3",
        "outputId": "32571f29-5744-42af-94ad-5eeca2c7890a",
        "colab": {
          "base_uri": "https://localhost:8080/",
          "height": 424
        }
      },
      "outputs": [
        {
          "output_type": "execute_result",
          "data": {
            "text/plain": [
              "      trip_distance  fare_amount  tip_amount  tolls_amount  total_amount\n",
              "8338          38.11        176.0       18.29          6.12        201.21\n",
              "9965          37.86         52.0        0.00          6.12         65.92\n",
              "1656          37.57         52.0       13.18          6.12         79.10\n",
              "2237          28.41         87.5        0.00          6.12         95.42\n",
              "436           28.06         52.0       13.18          6.12         79.10\n",
              "...             ...          ...         ...           ...           ...\n",
              "7221           0.00         20.0        0.00          0.00         21.30\n",
              "6094           0.00          2.5        0.00          0.00          6.80\n",
              "6092           0.00          2.5        0.00          0.00          4.30\n",
              "9923           0.00         24.2        0.00          0.00         25.00\n",
              "24             0.00         52.0        0.00          0.00         57.30\n",
              "\n",
              "[10000 rows x 5 columns]"
            ],
            "text/html": [
              "\n",
              "  <div id=\"df-6edd8d08-0925-4ade-ac4e-38af7a9041a6\" class=\"colab-df-container\">\n",
              "    <div>\n",
              "<style scoped>\n",
              "    .dataframe tbody tr th:only-of-type {\n",
              "        vertical-align: middle;\n",
              "    }\n",
              "\n",
              "    .dataframe tbody tr th {\n",
              "        vertical-align: top;\n",
              "    }\n",
              "\n",
              "    .dataframe thead th {\n",
              "        text-align: right;\n",
              "    }\n",
              "</style>\n",
              "<table border=\"1\" class=\"dataframe\">\n",
              "  <thead>\n",
              "    <tr style=\"text-align: right;\">\n",
              "      <th></th>\n",
              "      <th>trip_distance</th>\n",
              "      <th>fare_amount</th>\n",
              "      <th>tip_amount</th>\n",
              "      <th>tolls_amount</th>\n",
              "      <th>total_amount</th>\n",
              "    </tr>\n",
              "  </thead>\n",
              "  <tbody>\n",
              "    <tr>\n",
              "      <th>8338</th>\n",
              "      <td>38.11</td>\n",
              "      <td>176.0</td>\n",
              "      <td>18.29</td>\n",
              "      <td>6.12</td>\n",
              "      <td>201.21</td>\n",
              "    </tr>\n",
              "    <tr>\n",
              "      <th>9965</th>\n",
              "      <td>37.86</td>\n",
              "      <td>52.0</td>\n",
              "      <td>0.00</td>\n",
              "      <td>6.12</td>\n",
              "      <td>65.92</td>\n",
              "    </tr>\n",
              "    <tr>\n",
              "      <th>1656</th>\n",
              "      <td>37.57</td>\n",
              "      <td>52.0</td>\n",
              "      <td>13.18</td>\n",
              "      <td>6.12</td>\n",
              "      <td>79.10</td>\n",
              "    </tr>\n",
              "    <tr>\n",
              "      <th>2237</th>\n",
              "      <td>28.41</td>\n",
              "      <td>87.5</td>\n",
              "      <td>0.00</td>\n",
              "      <td>6.12</td>\n",
              "      <td>95.42</td>\n",
              "    </tr>\n",
              "    <tr>\n",
              "      <th>436</th>\n",
              "      <td>28.06</td>\n",
              "      <td>52.0</td>\n",
              "      <td>13.18</td>\n",
              "      <td>6.12</td>\n",
              "      <td>79.10</td>\n",
              "    </tr>\n",
              "    <tr>\n",
              "      <th>...</th>\n",
              "      <td>...</td>\n",
              "      <td>...</td>\n",
              "      <td>...</td>\n",
              "      <td>...</td>\n",
              "      <td>...</td>\n",
              "    </tr>\n",
              "    <tr>\n",
              "      <th>7221</th>\n",
              "      <td>0.00</td>\n",
              "      <td>20.0</td>\n",
              "      <td>0.00</td>\n",
              "      <td>0.00</td>\n",
              "      <td>21.30</td>\n",
              "    </tr>\n",
              "    <tr>\n",
              "      <th>6094</th>\n",
              "      <td>0.00</td>\n",
              "      <td>2.5</td>\n",
              "      <td>0.00</td>\n",
              "      <td>0.00</td>\n",
              "      <td>6.80</td>\n",
              "    </tr>\n",
              "    <tr>\n",
              "      <th>6092</th>\n",
              "      <td>0.00</td>\n",
              "      <td>2.5</td>\n",
              "      <td>0.00</td>\n",
              "      <td>0.00</td>\n",
              "      <td>4.30</td>\n",
              "    </tr>\n",
              "    <tr>\n",
              "      <th>9923</th>\n",
              "      <td>0.00</td>\n",
              "      <td>24.2</td>\n",
              "      <td>0.00</td>\n",
              "      <td>0.00</td>\n",
              "      <td>25.00</td>\n",
              "    </tr>\n",
              "    <tr>\n",
              "      <th>24</th>\n",
              "      <td>0.00</td>\n",
              "      <td>52.0</td>\n",
              "      <td>0.00</td>\n",
              "      <td>0.00</td>\n",
              "      <td>57.30</td>\n",
              "    </tr>\n",
              "  </tbody>\n",
              "</table>\n",
              "<p>10000 rows × 5 columns</p>\n",
              "</div>\n",
              "    <div class=\"colab-df-buttons\">\n",
              "\n",
              "  <div class=\"colab-df-container\">\n",
              "    <button class=\"colab-df-convert\" onclick=\"convertToInteractive('df-6edd8d08-0925-4ade-ac4e-38af7a9041a6')\"\n",
              "            title=\"Convert this dataframe to an interactive table.\"\n",
              "            style=\"display:none;\">\n",
              "\n",
              "  <svg xmlns=\"http://www.w3.org/2000/svg\" height=\"24px\" viewBox=\"0 -960 960 960\">\n",
              "    <path d=\"M120-120v-720h720v720H120Zm60-500h600v-160H180v160Zm220 220h160v-160H400v160Zm0 220h160v-160H400v160ZM180-400h160v-160H180v160Zm440 0h160v-160H620v160ZM180-180h160v-160H180v160Zm440 0h160v-160H620v160Z\"/>\n",
              "  </svg>\n",
              "    </button>\n",
              "\n",
              "  <style>\n",
              "    .colab-df-container {\n",
              "      display:flex;\n",
              "      gap: 12px;\n",
              "    }\n",
              "\n",
              "    .colab-df-convert {\n",
              "      background-color: #E8F0FE;\n",
              "      border: none;\n",
              "      border-radius: 50%;\n",
              "      cursor: pointer;\n",
              "      display: none;\n",
              "      fill: #1967D2;\n",
              "      height: 32px;\n",
              "      padding: 0 0 0 0;\n",
              "      width: 32px;\n",
              "    }\n",
              "\n",
              "    .colab-df-convert:hover {\n",
              "      background-color: #E2EBFA;\n",
              "      box-shadow: 0px 1px 2px rgba(60, 64, 67, 0.3), 0px 1px 3px 1px rgba(60, 64, 67, 0.15);\n",
              "      fill: #174EA6;\n",
              "    }\n",
              "\n",
              "    .colab-df-buttons div {\n",
              "      margin-bottom: 4px;\n",
              "    }\n",
              "\n",
              "    [theme=dark] .colab-df-convert {\n",
              "      background-color: #3B4455;\n",
              "      fill: #D2E3FC;\n",
              "    }\n",
              "\n",
              "    [theme=dark] .colab-df-convert:hover {\n",
              "      background-color: #434B5C;\n",
              "      box-shadow: 0px 1px 3px 1px rgba(0, 0, 0, 0.15);\n",
              "      filter: drop-shadow(0px 1px 2px rgba(0, 0, 0, 0.3));\n",
              "      fill: #FFFFFF;\n",
              "    }\n",
              "  </style>\n",
              "\n",
              "    <script>\n",
              "      const buttonEl =\n",
              "        document.querySelector('#df-6edd8d08-0925-4ade-ac4e-38af7a9041a6 button.colab-df-convert');\n",
              "      buttonEl.style.display =\n",
              "        google.colab.kernel.accessAllowed ? 'block' : 'none';\n",
              "\n",
              "      async function convertToInteractive(key) {\n",
              "        const element = document.querySelector('#df-6edd8d08-0925-4ade-ac4e-38af7a9041a6');\n",
              "        const dataTable =\n",
              "          await google.colab.kernel.invokeFunction('convertToInteractive',\n",
              "                                                    [key], {});\n",
              "        if (!dataTable) return;\n",
              "\n",
              "        const docLinkHtml = 'Like what you see? Visit the ' +\n",
              "          '<a target=\"_blank\" href=https://colab.research.google.com/notebooks/data_table.ipynb>data table notebook</a>'\n",
              "          + ' to learn more about interactive tables.';\n",
              "        element.innerHTML = '';\n",
              "        dataTable['output_type'] = 'display_data';\n",
              "        await google.colab.output.renderOutput(dataTable, element);\n",
              "        const docLink = document.createElement('div');\n",
              "        docLink.innerHTML = docLinkHtml;\n",
              "        element.appendChild(docLink);\n",
              "      }\n",
              "    </script>\n",
              "  </div>\n",
              "\n",
              "\n",
              "    <div id=\"df-04b66304-232c-4a41-bb98-0e120b019523\">\n",
              "      <button class=\"colab-df-quickchart\" onclick=\"quickchart('df-04b66304-232c-4a41-bb98-0e120b019523')\"\n",
              "                title=\"Suggest charts\"\n",
              "                style=\"display:none;\">\n",
              "\n",
              "<svg xmlns=\"http://www.w3.org/2000/svg\" height=\"24px\"viewBox=\"0 0 24 24\"\n",
              "     width=\"24px\">\n",
              "    <g>\n",
              "        <path d=\"M19 3H5c-1.1 0-2 .9-2 2v14c0 1.1.9 2 2 2h14c1.1 0 2-.9 2-2V5c0-1.1-.9-2-2-2zM9 17H7v-7h2v7zm4 0h-2V7h2v10zm4 0h-2v-4h2v4z\"/>\n",
              "    </g>\n",
              "</svg>\n",
              "      </button>\n",
              "\n",
              "<style>\n",
              "  .colab-df-quickchart {\n",
              "      --bg-color: #E8F0FE;\n",
              "      --fill-color: #1967D2;\n",
              "      --hover-bg-color: #E2EBFA;\n",
              "      --hover-fill-color: #174EA6;\n",
              "      --disabled-fill-color: #AAA;\n",
              "      --disabled-bg-color: #DDD;\n",
              "  }\n",
              "\n",
              "  [theme=dark] .colab-df-quickchart {\n",
              "      --bg-color: #3B4455;\n",
              "      --fill-color: #D2E3FC;\n",
              "      --hover-bg-color: #434B5C;\n",
              "      --hover-fill-color: #FFFFFF;\n",
              "      --disabled-bg-color: #3B4455;\n",
              "      --disabled-fill-color: #666;\n",
              "  }\n",
              "\n",
              "  .colab-df-quickchart {\n",
              "    background-color: var(--bg-color);\n",
              "    border: none;\n",
              "    border-radius: 50%;\n",
              "    cursor: pointer;\n",
              "    display: none;\n",
              "    fill: var(--fill-color);\n",
              "    height: 32px;\n",
              "    padding: 0;\n",
              "    width: 32px;\n",
              "  }\n",
              "\n",
              "  .colab-df-quickchart:hover {\n",
              "    background-color: var(--hover-bg-color);\n",
              "    box-shadow: 0 1px 2px rgba(60, 64, 67, 0.3), 0 1px 3px 1px rgba(60, 64, 67, 0.15);\n",
              "    fill: var(--button-hover-fill-color);\n",
              "  }\n",
              "\n",
              "  .colab-df-quickchart-complete:disabled,\n",
              "  .colab-df-quickchart-complete:disabled:hover {\n",
              "    background-color: var(--disabled-bg-color);\n",
              "    fill: var(--disabled-fill-color);\n",
              "    box-shadow: none;\n",
              "  }\n",
              "\n",
              "  .colab-df-spinner {\n",
              "    border: 2px solid var(--fill-color);\n",
              "    border-color: transparent;\n",
              "    border-bottom-color: var(--fill-color);\n",
              "    animation:\n",
              "      spin 1s steps(1) infinite;\n",
              "  }\n",
              "\n",
              "  @keyframes spin {\n",
              "    0% {\n",
              "      border-color: transparent;\n",
              "      border-bottom-color: var(--fill-color);\n",
              "      border-left-color: var(--fill-color);\n",
              "    }\n",
              "    20% {\n",
              "      border-color: transparent;\n",
              "      border-left-color: var(--fill-color);\n",
              "      border-top-color: var(--fill-color);\n",
              "    }\n",
              "    30% {\n",
              "      border-color: transparent;\n",
              "      border-left-color: var(--fill-color);\n",
              "      border-top-color: var(--fill-color);\n",
              "      border-right-color: var(--fill-color);\n",
              "    }\n",
              "    40% {\n",
              "      border-color: transparent;\n",
              "      border-right-color: var(--fill-color);\n",
              "      border-top-color: var(--fill-color);\n",
              "    }\n",
              "    60% {\n",
              "      border-color: transparent;\n",
              "      border-right-color: var(--fill-color);\n",
              "    }\n",
              "    80% {\n",
              "      border-color: transparent;\n",
              "      border-right-color: var(--fill-color);\n",
              "      border-bottom-color: var(--fill-color);\n",
              "    }\n",
              "    90% {\n",
              "      border-color: transparent;\n",
              "      border-bottom-color: var(--fill-color);\n",
              "    }\n",
              "  }\n",
              "</style>\n",
              "\n",
              "      <script>\n",
              "        async function quickchart(key) {\n",
              "          const quickchartButtonEl =\n",
              "            document.querySelector('#' + key + ' button');\n",
              "          quickchartButtonEl.disabled = true;  // To prevent multiple clicks.\n",
              "          quickchartButtonEl.classList.add('colab-df-spinner');\n",
              "          try {\n",
              "            const charts = await google.colab.kernel.invokeFunction(\n",
              "                'suggestCharts', [key], {});\n",
              "          } catch (error) {\n",
              "            console.error('Error during call to suggestCharts:', error);\n",
              "          }\n",
              "          quickchartButtonEl.classList.remove('colab-df-spinner');\n",
              "          quickchartButtonEl.classList.add('colab-df-quickchart-complete');\n",
              "        }\n",
              "        (() => {\n",
              "          let quickchartButtonEl =\n",
              "            document.querySelector('#df-04b66304-232c-4a41-bb98-0e120b019523 button');\n",
              "          quickchartButtonEl.style.display =\n",
              "            google.colab.kernel.accessAllowed ? 'block' : 'none';\n",
              "        })();\n",
              "      </script>\n",
              "    </div>\n",
              "\n",
              "    </div>\n",
              "  </div>\n"
            ],
            "application/vnd.google.colaboratory.intrinsic+json": {
              "type": "dataframe",
              "summary": "{\n  \"name\": \"new_frame[['trip_distance','fare_amount', 'tip_amount', 'tolls_amount', 'total_amount']]\",\n  \"rows\": 10000,\n  \"fields\": [\n    {\n      \"column\": \"trip_distance\",\n      \"properties\": {\n        \"dtype\": \"number\",\n        \"std\": 4.148063386748871,\n        \"min\": 0.0,\n        \"max\": 38.11,\n        \"num_unique_values\": 1243,\n        \"samples\": [\n          3.46,\n          2.43,\n          6.46\n        ],\n        \"semantic_type\": \"\",\n        \"description\": \"\"\n      }\n    },\n    {\n      \"column\": \"fare_amount\",\n      \"properties\": {\n        \"dtype\": \"number\",\n        \"std\": 13.954761757679899,\n        \"min\": -52.0,\n        \"max\": 176.0,\n        \"num_unique_values\": 199,\n        \"samples\": [\n          41.0,\n          62.0,\n          27.5\n        ],\n        \"semantic_type\": \"\",\n        \"description\": \"\"\n      }\n    },\n    {\n      \"column\": \"tip_amount\",\n      \"properties\": {\n        \"dtype\": \"number\",\n        \"std\": 3.409800031906573,\n        \"min\": 0.0,\n        \"max\": 43.0,\n        \"num_unique_values\": 657,\n        \"samples\": [\n          0.93,\n          10.86,\n          11.1\n        ],\n        \"semantic_type\": \"\",\n        \"description\": \"\"\n      }\n    },\n    {\n      \"column\": \"tolls_amount\",\n      \"properties\": {\n        \"dtype\": \"number\",\n        \"std\": 6.437507127609149,\n        \"min\": -6.12,\n        \"max\": 612.0,\n        \"num_unique_values\": 37,\n        \"samples\": [\n          8.62,\n          17.9,\n          20.0\n        ],\n        \"semantic_type\": \"\",\n        \"description\": \"\"\n      }\n    },\n    {\n      \"column\": \"total_amount\",\n      \"properties\": {\n        \"dtype\": \"number\",\n        \"std\": 19.20925548878395,\n        \"min\": -65.92,\n        \"max\": 671.8,\n        \"num_unique_values\": 1097,\n        \"samples\": [\n          103.3,\n          34.92,\n          73.5\n        ],\n        \"semantic_type\": \"\",\n        \"description\": \"\"\n      }\n    }\n  ]\n}"
            }
          },
          "metadata": {},
          "execution_count": 49
        }
      ],
      "source": [
        "taxis[['fare_amount', 'tip_amount', 'tolls_amount', 'total_amount', 'trip_distance']]\n",
        "\n",
        "\n",
        "new_frame = taxis.sort_values('trip_distance', ascending = False)\n",
        "\n",
        "\n",
        "new_frame[['trip_distance','fare_amount', 'tip_amount', 'tolls_amount', 'total_amount']]\n",
        "\n",
        "\n",
        "\n",
        "\n"
      ]
    },
    {
      "cell_type": "markdown",
      "id": "b9aaeed4-127a-412b-93f6-b179e4ba85f0",
      "metadata": {
        "id": "b9aaeed4-127a-412b-93f6-b179e4ba85f0"
      },
      "source": [
        "---\n",
        "\n",
        "### Section 2\n",
        "\n",
        "#### Exercise 2.1\n",
        "##### Read in the meteorite data from the `Meteorite_Landings.csv` file, rename the `mass (g)` column to `mass`, and drop all the latitude and longitude columns. Sort the result by mass in descending order."
      ]
    },
    {
      "cell_type": "code",
      "execution_count": null,
      "id": "ada49a08-cda7-42ee-ade9-8bb2a2c5a9b8",
      "metadata": {
        "id": "ada49a08-cda7-42ee-ade9-8bb2a2c5a9b8"
      },
      "outputs": [],
      "source": []
    },
    {
      "cell_type": "markdown",
      "id": "6994b42d-8205-4584-84a0-b3a7fa56c9b1",
      "metadata": {
        "id": "6994b42d-8205-4584-84a0-b3a7fa56c9b1"
      },
      "source": [
        "#### Exercise 2.2\n",
        "##### Using the meteorite data from the `Meteorite_Landings.csv` file, update the `year` column to only contain the year, convert it to a numeric data type, and create a new column indicating whether the meteorite was observed falling before 1970. Set the index to the `id` column and extract all the rows with IDs between 10,036 and 10,040 (inclusive) with `loc[]`.\n",
        "\n",
        "###### **Hint 1**: Use `year.str.slice()` to grab a substring.\n",
        "\n",
        "###### **Hint 2**: Make sure to sort the index before using `loc[]` to select the range.\n",
        "\n",
        "###### **Bonus**: There's a data entry error in the `year` column. Can you find it? (Don't spend too much time on this.)"
      ]
    },
    {
      "cell_type": "code",
      "execution_count": null,
      "id": "02605233-73c5-4cd9-8134-b38ab749e8df",
      "metadata": {
        "id": "02605233-73c5-4cd9-8134-b38ab749e8df"
      },
      "outputs": [],
      "source": []
    },
    {
      "cell_type": "markdown",
      "id": "16d1f8ab-ad56-412d-8df7-a59252f282cf",
      "metadata": {
        "id": "16d1f8ab-ad56-412d-8df7-a59252f282cf"
      },
      "source": [
        "#### Exercise 2.3\n",
        "##### Using the meteorite data from the `Meteorite_Landings.csv` file, create a pivot table that shows both the number of meteorites and the 95th percentile of meteorite mass for those that were found versus observed falling per year from 2005 through 2009 (inclusive). Hint: Be sure to convert the `year` column to a number as we did in the previous exercise."
      ]
    },
    {
      "cell_type": "code",
      "execution_count": null,
      "id": "511433c4-5a9d-41a4-8050-0e953225da0e",
      "metadata": {
        "id": "511433c4-5a9d-41a4-8050-0e953225da0e"
      },
      "outputs": [],
      "source": []
    },
    {
      "cell_type": "markdown",
      "id": "4243c25b-6b5d-4fec-a818-3766be46c7a1",
      "metadata": {
        "id": "4243c25b-6b5d-4fec-a818-3766be46c7a1"
      },
      "source": [
        "#### Exercise 2.4\n",
        "##### Using the meteorite data from the `Meteorite_Landings.csv` file, compare summary statistics of the mass column for the meteorites that were found versus observed falling."
      ]
    },
    {
      "cell_type": "code",
      "execution_count": null,
      "id": "79aebbf8-1935-449f-94d8-aea0e1b67b4b",
      "metadata": {
        "id": "79aebbf8-1935-449f-94d8-aea0e1b67b4b"
      },
      "outputs": [],
      "source": []
    },
    {
      "cell_type": "markdown",
      "id": "9fb76130-c968-4d24-bf11-3337f846a621",
      "metadata": {
        "id": "9fb76130-c968-4d24-bf11-3337f846a621"
      },
      "source": [
        "#### Exercise 2.5\n",
        "##### Using the taxi trip data in the `2019_Yellow_Taxi_Trip_Data.csv` file, resample the data to an hourly frequency based on the dropoff time. Calculate the total `trip_distance`, `fare_amount`, `tolls_amount`, and `tip_amount`, then find the 5 hours with the most tips."
      ]
    },
    {
      "cell_type": "code",
      "execution_count": null,
      "id": "1f5423f5-c685-4bb2-ac01-8d334d26f341",
      "metadata": {
        "id": "1f5423f5-c685-4bb2-ac01-8d334d26f341"
      },
      "outputs": [],
      "source": []
    },
    {
      "cell_type": "markdown",
      "id": "b878c7da-bd82-4e95-9302-e68d67b56f31",
      "metadata": {
        "id": "b878c7da-bd82-4e95-9302-e68d67b56f31"
      },
      "source": [
        "---\n",
        "\n",
        "### Section 3\n",
        "\n",
        "#### Exercise 3.1\n",
        "##### Using the TSA traveler throughput data in the `tsa_melted_holiday_travel.csv` file, create box plots for traveler throughput for each year in the data. Hint: Pass `kind='box'` into the `plot()` method to generate box plots."
      ]
    },
    {
      "cell_type": "code",
      "execution_count": null,
      "id": "0d275b26-c701-4c32-b480-8a4b0119f830",
      "metadata": {
        "id": "0d275b26-c701-4c32-b480-8a4b0119f830"
      },
      "outputs": [],
      "source": []
    },
    {
      "cell_type": "markdown",
      "id": "6bdaffc7-b865-41cd-bd6a-fb02576ce814",
      "metadata": {
        "id": "6bdaffc7-b865-41cd-bd6a-fb02576ce814"
      },
      "source": [
        "#### Exercise 3.2\n",
        "##### Using the TSA traveler throughput data in the `tsa_melted_holiday_travel.csv` file, create a heatmap that shows the 2019 TSA median traveler throughput by day of week and month."
      ]
    },
    {
      "cell_type": "code",
      "execution_count": null,
      "id": "9afe6aa8-9078-4dd8-98bb-7f68976f97a5",
      "metadata": {
        "id": "9afe6aa8-9078-4dd8-98bb-7f68976f97a5"
      },
      "outputs": [],
      "source": []
    },
    {
      "cell_type": "markdown",
      "id": "81436a29-c7ca-40a3-b1c5-7a1947709bd3",
      "metadata": {
        "id": "81436a29-c7ca-40a3-b1c5-7a1947709bd3"
      },
      "source": [
        "#### Exercise 3.3\n",
        "##### Annotate the medians in the box plot from *[Exercise 3.1](#Exercise-3.1)*. Hint: The `x` coordinates will be 1, 2, and 3 for 2019, 2020, and 2021, respectively. Alternatively, to avoid hardcoding values, you can use the `Axes.get_xticklabels()` method, in which case you should look at the [documentation](https://matplotlib.org/stable/api/text_api.html) for the `Text` class."
      ]
    },
    {
      "cell_type": "code",
      "execution_count": null,
      "id": "b0d32c60-fd9f-4b35-a6ec-de1489951e16",
      "metadata": {
        "id": "b0d32c60-fd9f-4b35-a6ec-de1489951e16"
      },
      "outputs": [],
      "source": []
    }
  ],
  "metadata": {
    "kernelspec": {
      "display_name": "Python 3 (ipykernel)",
      "language": "python",
      "name": "python3"
    },
    "language_info": {
      "codemirror_mode": {
        "name": "ipython",
        "version": 3
      },
      "file_extension": ".py",
      "mimetype": "text/x-python",
      "name": "python",
      "nbconvert_exporter": "python",
      "pygments_lexer": "ipython3",
      "version": "3.12.4"
    },
    "colab": {
      "provenance": []
    }
  },
  "nbformat": 4,
  "nbformat_minor": 5
}