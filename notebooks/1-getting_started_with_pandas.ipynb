{
  "cells": [
    {
      "cell_type": "markdown",
      "id": "654d989b-ca3b-4815-94f8-fe640ebbe9d2",
      "metadata": {
        "editable": true,
        "tags": [],
        "id": "654d989b-ca3b-4815-94f8-fe640ebbe9d2"
      },
      "source": [
        "[![Binder](https://mybinder.org/badge_logo.svg)](https://mybinder.org/v2/gh/stefmolin/pandas-workshop/main?urlpath=lab/tree/notebooks/1-getting_started_with_pandas.ipynb) [![View slides in browser](https://img.shields.io/badge/view-slides-orange?logo=reveal.js&logoColor=white)](https://stefaniemolin.com/pandas-workshop/#/section-1)\n",
        "\n",
        "---\n",
        "\n"
      ]
    },
    {
      "cell_type": "markdown",
      "id": "4eedaf6c-296c-442c-92ec-60b8a4595781",
      "metadata": {
        "tags": [],
        "id": "4eedaf6c-296c-442c-92ec-60b8a4595781"
      },
      "source": [
        "# Section 1: Getting Started With Pandas\n",
        "\n",
        "We will begin by introducing the `Series`, `DataFrame`, and `Index` classes, which are the basic building blocks of the pandas library, and showing how to work with them. By the end of this section, you will be able to create DataFrames and perform operations on them to inspect and filter the data."
      ]
    },
    {
      "cell_type": "markdown",
      "id": "002b1f0a-a96e-424b-993a-8126452d31a1",
      "metadata": {
        "editable": true,
        "tags": [],
        "id": "002b1f0a-a96e-424b-993a-8126452d31a1"
      },
      "source": [
        "## Anatomy of a DataFrame\n",
        "\n",
        "A **DataFrame** is composed of one or more **Series**. The names of the **Series** form the column names, and the row labels form the **Index**."
      ]
    },
    {
      "cell_type": "code",
      "source": [
        "import os\n",
        "current_working_directory = os.getcwd()\n",
        "print(current_working_directory)\n",
        "\n",
        "\n",
        "from google.colab import files\n",
        "\n",
        "files = files.upload()"
      ],
      "metadata": {
        "id": "I09IfCUD_yDe",
        "outputId": "4dd1712f-6c54-49e1-9e65-a93fb2eabe6c",
        "colab": {
          "base_uri": "https://localhost:8080/",
          "height": 56
        }
      },
      "id": "I09IfCUD_yDe",
      "execution_count": 15,
      "outputs": [
        {
          "output_type": "stream",
          "name": "stdout",
          "text": [
            "/content\n"
          ]
        },
        {
          "output_type": "display_data",
          "data": {
            "text/plain": [
              "<IPython.core.display.HTML object>"
            ],
            "text/html": [
              "\n",
              "     <input type=\"file\" id=\"files-6f772054-40a6-4ce3-85dd-d21c58021090\" name=\"files[]\" multiple disabled\n",
              "        style=\"border:none\" />\n",
              "     <output id=\"result-6f772054-40a6-4ce3-85dd-d21c58021090\">\n",
              "      Upload widget is only available when the cell has been executed in the\n",
              "      current browser session. Please rerun this cell to enable.\n",
              "      </output>\n",
              "      <script>// Copyright 2017 Google LLC\n",
              "//\n",
              "// Licensed under the Apache License, Version 2.0 (the \"License\");\n",
              "// you may not use this file except in compliance with the License.\n",
              "// You may obtain a copy of the License at\n",
              "//\n",
              "//      http://www.apache.org/licenses/LICENSE-2.0\n",
              "//\n",
              "// Unless required by applicable law or agreed to in writing, software\n",
              "// distributed under the License is distributed on an \"AS IS\" BASIS,\n",
              "// WITHOUT WARRANTIES OR CONDITIONS OF ANY KIND, either express or implied.\n",
              "// See the License for the specific language governing permissions and\n",
              "// limitations under the License.\n",
              "\n",
              "/**\n",
              " * @fileoverview Helpers for google.colab Python module.\n",
              " */\n",
              "(function(scope) {\n",
              "function span(text, styleAttributes = {}) {\n",
              "  const element = document.createElement('span');\n",
              "  element.textContent = text;\n",
              "  for (const key of Object.keys(styleAttributes)) {\n",
              "    element.style[key] = styleAttributes[key];\n",
              "  }\n",
              "  return element;\n",
              "}\n",
              "\n",
              "// Max number of bytes which will be uploaded at a time.\n",
              "const MAX_PAYLOAD_SIZE = 100 * 1024;\n",
              "\n",
              "function _uploadFiles(inputId, outputId) {\n",
              "  const steps = uploadFilesStep(inputId, outputId);\n",
              "  const outputElement = document.getElementById(outputId);\n",
              "  // Cache steps on the outputElement to make it available for the next call\n",
              "  // to uploadFilesContinue from Python.\n",
              "  outputElement.steps = steps;\n",
              "\n",
              "  return _uploadFilesContinue(outputId);\n",
              "}\n",
              "\n",
              "// This is roughly an async generator (not supported in the browser yet),\n",
              "// where there are multiple asynchronous steps and the Python side is going\n",
              "// to poll for completion of each step.\n",
              "// This uses a Promise to block the python side on completion of each step,\n",
              "// then passes the result of the previous step as the input to the next step.\n",
              "function _uploadFilesContinue(outputId) {\n",
              "  const outputElement = document.getElementById(outputId);\n",
              "  const steps = outputElement.steps;\n",
              "\n",
              "  const next = steps.next(outputElement.lastPromiseValue);\n",
              "  return Promise.resolve(next.value.promise).then((value) => {\n",
              "    // Cache the last promise value to make it available to the next\n",
              "    // step of the generator.\n",
              "    outputElement.lastPromiseValue = value;\n",
              "    return next.value.response;\n",
              "  });\n",
              "}\n",
              "\n",
              "/**\n",
              " * Generator function which is called between each async step of the upload\n",
              " * process.\n",
              " * @param {string} inputId Element ID of the input file picker element.\n",
              " * @param {string} outputId Element ID of the output display.\n",
              " * @return {!Iterable<!Object>} Iterable of next steps.\n",
              " */\n",
              "function* uploadFilesStep(inputId, outputId) {\n",
              "  const inputElement = document.getElementById(inputId);\n",
              "  inputElement.disabled = false;\n",
              "\n",
              "  const outputElement = document.getElementById(outputId);\n",
              "  outputElement.innerHTML = '';\n",
              "\n",
              "  const pickedPromise = new Promise((resolve) => {\n",
              "    inputElement.addEventListener('change', (e) => {\n",
              "      resolve(e.target.files);\n",
              "    });\n",
              "  });\n",
              "\n",
              "  const cancel = document.createElement('button');\n",
              "  inputElement.parentElement.appendChild(cancel);\n",
              "  cancel.textContent = 'Cancel upload';\n",
              "  const cancelPromise = new Promise((resolve) => {\n",
              "    cancel.onclick = () => {\n",
              "      resolve(null);\n",
              "    };\n",
              "  });\n",
              "\n",
              "  // Wait for the user to pick the files.\n",
              "  const files = yield {\n",
              "    promise: Promise.race([pickedPromise, cancelPromise]),\n",
              "    response: {\n",
              "      action: 'starting',\n",
              "    }\n",
              "  };\n",
              "\n",
              "  cancel.remove();\n",
              "\n",
              "  // Disable the input element since further picks are not allowed.\n",
              "  inputElement.disabled = true;\n",
              "\n",
              "  if (!files) {\n",
              "    return {\n",
              "      response: {\n",
              "        action: 'complete',\n",
              "      }\n",
              "    };\n",
              "  }\n",
              "\n",
              "  for (const file of files) {\n",
              "    const li = document.createElement('li');\n",
              "    li.append(span(file.name, {fontWeight: 'bold'}));\n",
              "    li.append(span(\n",
              "        `(${file.type || 'n/a'}) - ${file.size} bytes, ` +\n",
              "        `last modified: ${\n",
              "            file.lastModifiedDate ? file.lastModifiedDate.toLocaleDateString() :\n",
              "                                    'n/a'} - `));\n",
              "    const percent = span('0% done');\n",
              "    li.appendChild(percent);\n",
              "\n",
              "    outputElement.appendChild(li);\n",
              "\n",
              "    const fileDataPromise = new Promise((resolve) => {\n",
              "      const reader = new FileReader();\n",
              "      reader.onload = (e) => {\n",
              "        resolve(e.target.result);\n",
              "      };\n",
              "      reader.readAsArrayBuffer(file);\n",
              "    });\n",
              "    // Wait for the data to be ready.\n",
              "    let fileData = yield {\n",
              "      promise: fileDataPromise,\n",
              "      response: {\n",
              "        action: 'continue',\n",
              "      }\n",
              "    };\n",
              "\n",
              "    // Use a chunked sending to avoid message size limits. See b/62115660.\n",
              "    let position = 0;\n",
              "    do {\n",
              "      const length = Math.min(fileData.byteLength - position, MAX_PAYLOAD_SIZE);\n",
              "      const chunk = new Uint8Array(fileData, position, length);\n",
              "      position += length;\n",
              "\n",
              "      const base64 = btoa(String.fromCharCode.apply(null, chunk));\n",
              "      yield {\n",
              "        response: {\n",
              "          action: 'append',\n",
              "          file: file.name,\n",
              "          data: base64,\n",
              "        },\n",
              "      };\n",
              "\n",
              "      let percentDone = fileData.byteLength === 0 ?\n",
              "          100 :\n",
              "          Math.round((position / fileData.byteLength) * 100);\n",
              "      percent.textContent = `${percentDone}% done`;\n",
              "\n",
              "    } while (position < fileData.byteLength);\n",
              "  }\n",
              "\n",
              "  // All done.\n",
              "  yield {\n",
              "    response: {\n",
              "      action: 'complete',\n",
              "    }\n",
              "  };\n",
              "}\n",
              "\n",
              "scope.google = scope.google || {};\n",
              "scope.google.colab = scope.google.colab || {};\n",
              "scope.google.colab._files = {\n",
              "  _uploadFiles,\n",
              "  _uploadFilesContinue,\n",
              "};\n",
              "})(self);\n",
              "</script> "
            ]
          },
          "metadata": {}
        }
      ]
    },
    {
      "cell_type": "code",
      "execution_count": 25,
      "id": "c8c4e00d-8bbb-47ee-9c84-dba7b6c19636",
      "metadata": {
        "editable": true,
        "tags": [],
        "id": "c8c4e00d-8bbb-47ee-9c84-dba7b6c19636",
        "outputId": "fbbd4202-d74c-4886-ad30-4b3d9b216de7",
        "colab": {
          "base_uri": "https://localhost:8080/",
          "height": 393
        }
      },
      "outputs": [
        {
          "output_type": "error",
          "ename": "ModuleNotFoundError",
          "evalue": "No module named 'pytimetk'",
          "traceback": [
            "\u001b[0;31m---------------------------------------------------------------------------\u001b[0m",
            "\u001b[0;31mModuleNotFoundError\u001b[0m                       Traceback (most recent call last)",
            "\u001b[0;32m<ipython-input-25-30b94ecaf354>\u001b[0m in \u001b[0;36m<cell line: 0>\u001b[0;34m()\u001b[0m\n\u001b[1;32m      1\u001b[0m \u001b[0;32mimport\u001b[0m \u001b[0mpandas\u001b[0m \u001b[0;32mas\u001b[0m \u001b[0mpd\u001b[0m\u001b[0;34m\u001b[0m\u001b[0;34m\u001b[0m\u001b[0m\n\u001b[0;32m----> 2\u001b[0;31m \u001b[0;32mimport\u001b[0m \u001b[0mpytimetk\u001b[0m \u001b[0;32mas\u001b[0m \u001b[0mtk\u001b[0m\u001b[0;34m\u001b[0m\u001b[0;34m\u001b[0m\u001b[0m\n\u001b[0m\u001b[1;32m      3\u001b[0m \u001b[0;34m\u001b[0m\u001b[0m\n\u001b[1;32m      4\u001b[0m \u001b[0mmeteorites\u001b[0m \u001b[0;34m=\u001b[0m \u001b[0mpd\u001b[0m\u001b[0;34m.\u001b[0m\u001b[0mread_csv\u001b[0m\u001b[0;34m(\u001b[0m\u001b[0;34m'Meteorite_Landings.csv'\u001b[0m\u001b[0;34m,\u001b[0m \u001b[0mnrows\u001b[0m\u001b[0;34m=\u001b[0m\u001b[0;36m5\u001b[0m\u001b[0;34m)\u001b[0m\u001b[0;34m\u001b[0m\u001b[0;34m\u001b[0m\u001b[0m\n\u001b[1;32m      5\u001b[0m \u001b[0mmeteorites\u001b[0m\u001b[0;34m\u001b[0m\u001b[0;34m\u001b[0m\u001b[0m\n",
            "\u001b[0;31mModuleNotFoundError\u001b[0m: No module named 'pytimetk'",
            "",
            "\u001b[0;31m---------------------------------------------------------------------------\u001b[0;32m\nNOTE: If your import is failing due to a missing package, you can\nmanually install dependencies using either !pip or !apt.\n\nTo view examples of installing some common dependencies, click the\n\"Open Examples\" button below.\n\u001b[0;31m---------------------------------------------------------------------------\u001b[0m\n"
          ],
          "errorDetails": {
            "actions": [
              {
                "action": "open_url",
                "actionText": "Open Examples",
                "url": "/notebooks/snippets/importing_libraries.ipynb"
              }
            ]
          }
        }
      ],
      "source": [
        "import pandas as pd\n",
        "import pytimetk as tk\n",
        "\n",
        "meteorites = pd.read_csv('Meteorite_Landings.csv', nrows=5)\n",
        "meteorites\n",
        "\n",
        "tk.glimpse(meteorites)"
      ]
    },
    {
      "cell_type": "markdown",
      "id": "0f71bf2b-8ff6-4352-b764-ca323a4bcb5e",
      "metadata": {
        "editable": true,
        "tags": [],
        "id": "0f71bf2b-8ff6-4352-b764-ca323a4bcb5e"
      },
      "source": [
        "*Source: [NASA's Open Data Portal](https://data.nasa.gov/Space-Science/Meteorite-Landings/gh4g-9sfh)*"
      ]
    },
    {
      "cell_type": "markdown",
      "id": "08f9c73e-20be-40d1-b5e9-1bfd24b5be25",
      "metadata": {
        "editable": true,
        "tags": [],
        "id": "08f9c73e-20be-40d1-b5e9-1bfd24b5be25"
      },
      "source": [
        "#### Series:"
      ]
    },
    {
      "cell_type": "code",
      "execution_count": 11,
      "id": "e9481da8-a3b5-4f6e-b9fc-cdb049090dbe",
      "metadata": {
        "editable": true,
        "tags": [],
        "id": "e9481da8-a3b5-4f6e-b9fc-cdb049090dbe",
        "outputId": "7deaa85a-dbcb-487e-a14b-7b573583381d",
        "colab": {
          "base_uri": "https://localhost:8080/",
          "height": 241
        }
      },
      "outputs": [
        {
          "output_type": "execute_result",
          "data": {
            "text/plain": [
              "0      Aachen\n",
              "1      Aarhus\n",
              "2        Abee\n",
              "3    Acapulco\n",
              "4     Achiras\n",
              "Name: name, dtype: object"
            ],
            "text/html": [
              "<div>\n",
              "<style scoped>\n",
              "    .dataframe tbody tr th:only-of-type {\n",
              "        vertical-align: middle;\n",
              "    }\n",
              "\n",
              "    .dataframe tbody tr th {\n",
              "        vertical-align: top;\n",
              "    }\n",
              "\n",
              "    .dataframe thead th {\n",
              "        text-align: right;\n",
              "    }\n",
              "</style>\n",
              "<table border=\"1\" class=\"dataframe\">\n",
              "  <thead>\n",
              "    <tr style=\"text-align: right;\">\n",
              "      <th></th>\n",
              "      <th>name</th>\n",
              "    </tr>\n",
              "  </thead>\n",
              "  <tbody>\n",
              "    <tr>\n",
              "      <th>0</th>\n",
              "      <td>Aachen</td>\n",
              "    </tr>\n",
              "    <tr>\n",
              "      <th>1</th>\n",
              "      <td>Aarhus</td>\n",
              "    </tr>\n",
              "    <tr>\n",
              "      <th>2</th>\n",
              "      <td>Abee</td>\n",
              "    </tr>\n",
              "    <tr>\n",
              "      <th>3</th>\n",
              "      <td>Acapulco</td>\n",
              "    </tr>\n",
              "    <tr>\n",
              "      <th>4</th>\n",
              "      <td>Achiras</td>\n",
              "    </tr>\n",
              "  </tbody>\n",
              "</table>\n",
              "</div><br><label><b>dtype:</b> object</label>"
            ]
          },
          "metadata": {},
          "execution_count": 11
        }
      ],
      "source": [
        "meteorites.name"
      ]
    },
    {
      "cell_type": "markdown",
      "id": "5ad03f4e-5f74-4440-a825-cd8e964006d2",
      "metadata": {
        "editable": true,
        "tags": [],
        "id": "5ad03f4e-5f74-4440-a825-cd8e964006d2"
      },
      "source": [
        "#### Columns:"
      ]
    },
    {
      "cell_type": "code",
      "execution_count": 12,
      "id": "2b8723c5-3e4d-4038-82c7-5c0e9651f01c",
      "metadata": {
        "editable": true,
        "tags": [],
        "id": "2b8723c5-3e4d-4038-82c7-5c0e9651f01c",
        "outputId": "4632f4d7-9aaf-402c-c95a-52cc724aa93b",
        "colab": {
          "base_uri": "https://localhost:8080/"
        }
      },
      "outputs": [
        {
          "output_type": "execute_result",
          "data": {
            "text/plain": [
              "Index(['name', 'id', 'nametype', 'recclass', 'mass (g)', 'fall', 'year',\n",
              "       'reclat', 'reclong', 'GeoLocation'],\n",
              "      dtype='object')"
            ]
          },
          "metadata": {},
          "execution_count": 12
        }
      ],
      "source": [
        "meteorites.columns"
      ]
    },
    {
      "cell_type": "markdown",
      "id": "649a8b50-2ff5-403b-8752-cbcf992de79f",
      "metadata": {
        "editable": true,
        "tags": [],
        "id": "649a8b50-2ff5-403b-8752-cbcf992de79f"
      },
      "source": [
        "#### Index:"
      ]
    },
    {
      "cell_type": "code",
      "execution_count": 14,
      "id": "43a06370-f735-4a9d-a64f-493e03b2b2c7",
      "metadata": {
        "editable": true,
        "tags": [],
        "id": "43a06370-f735-4a9d-a64f-493e03b2b2c7",
        "outputId": "848b163f-dca9-48a1-ba8e-8712e215a6d3",
        "colab": {
          "base_uri": "https://localhost:8080/"
        }
      },
      "outputs": [
        {
          "output_type": "execute_result",
          "data": {
            "text/plain": [
              "RangeIndex(start=0, stop=5, step=1)"
            ]
          },
          "metadata": {},
          "execution_count": 14
        }
      ],
      "source": [
        "meteorites.index"
      ]
    },
    {
      "cell_type": "markdown",
      "id": "49080335-73c4-4b21-a181-70370544f3aa",
      "metadata": {
        "editable": true,
        "tags": [],
        "id": "49080335-73c4-4b21-a181-70370544f3aa"
      },
      "source": [
        "## Creating DataFrames\n",
        "\n",
        "We can create DataFrames from a variety of sources such as other Python objects, flat files, webscraping, and API requests. Here, we will see just a couple of examples, but be sure to check out [this page](https://pandas.pydata.org/pandas-docs/stable/user_guide/io.html) in the documentation for a complete list."
      ]
    },
    {
      "cell_type": "markdown",
      "id": "a655f25f-c5ce-4286-a671-eee6c1eef663",
      "metadata": {
        "editable": true,
        "tags": [],
        "id": "a655f25f-c5ce-4286-a671-eee6c1eef663"
      },
      "source": [
        "### Using a flat file"
      ]
    },
    {
      "cell_type": "code",
      "execution_count": null,
      "id": "96da3638-773f-4a4a-a766-b5f34da67f80",
      "metadata": {
        "editable": true,
        "tags": [],
        "id": "96da3638-773f-4a4a-a766-b5f34da67f80"
      },
      "outputs": [],
      "source": [
        "import pandas as pd\n",
        "\n",
        "meteorites = pd.read_csv('../data/Meteorite_Landings.csv')"
      ]
    },
    {
      "cell_type": "markdown",
      "id": "0ac0a6c5-9366-481f-87cc-5d84742cebf8",
      "metadata": {
        "editable": true,
        "tags": [],
        "id": "0ac0a6c5-9366-481f-87cc-5d84742cebf8"
      },
      "source": [
        "*Tip: There are many parameters to this function to handle some initial processing while reading in the file &ndash; be sure check out the [documentation](https://pandas.pydata.org/docs/reference/api/pandas.read_csv.html).*"
      ]
    },
    {
      "cell_type": "markdown",
      "id": "8097800d-f20a-4a28-ab25-ec2218903cb3",
      "metadata": {
        "editable": true,
        "tags": [],
        "id": "8097800d-f20a-4a28-ab25-ec2218903cb3"
      },
      "source": [
        "### Using data from an API\n",
        "\n",
        "Collect the data from [NASA's Open Data Portal](https://data.nasa.gov/Space-Science/Meteorite-Landings/gh4g-9sfh) using the Socrata Open Data API (SODA) with the `requests` library:"
      ]
    },
    {
      "cell_type": "code",
      "execution_count": null,
      "id": "45bf1785-4f25-461b-b600-543ccb0fccff",
      "metadata": {
        "editable": true,
        "tags": [],
        "id": "45bf1785-4f25-461b-b600-543ccb0fccff"
      },
      "outputs": [],
      "source": [
        "import requests\n",
        "\n",
        "response = requests.get(\n",
        "    'https://data.nasa.gov/resource/gh4g-9sfh.json',\n",
        "    params={'$limit': 50_000}\n",
        ")\n",
        "\n",
        "if response.ok:\n",
        "    payload = response.json()\n",
        "else:\n",
        "    print(f'Request was not successful and returned code: {response.status_code}.')\n",
        "    payload = None"
      ]
    },
    {
      "cell_type": "markdown",
      "id": "575a0059-5f81-46cf-9a1c-7dc06d874a72",
      "metadata": {
        "editable": true,
        "tags": [],
        "id": "575a0059-5f81-46cf-9a1c-7dc06d874a72"
      },
      "source": [
        "Create the DataFrame with the resulting payload:"
      ]
    },
    {
      "cell_type": "code",
      "execution_count": null,
      "id": "be644eb4-193e-4820-9855-3e959c899319",
      "metadata": {
        "editable": true,
        "tags": [],
        "id": "be644eb4-193e-4820-9855-3e959c899319",
        "outputId": "36d047dd-6615-4d02-b216-166e06cc7957"
      },
      "outputs": [
        {
          "data": {
            "text/html": [
              "<div>\n",
              "<style scoped>\n",
              "    .dataframe tbody tr th:only-of-type {\n",
              "        vertical-align: middle;\n",
              "    }\n",
              "\n",
              "    .dataframe tbody tr th {\n",
              "        vertical-align: top;\n",
              "    }\n",
              "\n",
              "    .dataframe thead th {\n",
              "        text-align: right;\n",
              "    }\n",
              "</style>\n",
              "<table border=\"1\" class=\"dataframe\">\n",
              "  <thead>\n",
              "    <tr style=\"text-align: right;\">\n",
              "      <th></th>\n",
              "      <th>name</th>\n",
              "      <th>id</th>\n",
              "      <th>nametype</th>\n",
              "      <th>recclass</th>\n",
              "      <th>mass</th>\n",
              "      <th>fall</th>\n",
              "      <th>year</th>\n",
              "      <th>reclat</th>\n",
              "      <th>reclong</th>\n",
              "      <th>geolocation</th>\n",
              "      <th>:@computed_region_cbhk_fwbd</th>\n",
              "      <th>:@computed_region_nnqa_25f4</th>\n",
              "    </tr>\n",
              "  </thead>\n",
              "  <tbody>\n",
              "    <tr>\n",
              "      <th>0</th>\n",
              "      <td>Aachen</td>\n",
              "      <td>1</td>\n",
              "      <td>Valid</td>\n",
              "      <td>L5</td>\n",
              "      <td>21</td>\n",
              "      <td>Fell</td>\n",
              "      <td>1880-01-01T00:00:00.000</td>\n",
              "      <td>50.775000</td>\n",
              "      <td>6.083330</td>\n",
              "      <td>{'latitude': '50.775', 'longitude': '6.08333'}</td>\n",
              "      <td>NaN</td>\n",
              "      <td>NaN</td>\n",
              "    </tr>\n",
              "    <tr>\n",
              "      <th>1</th>\n",
              "      <td>Aarhus</td>\n",
              "      <td>2</td>\n",
              "      <td>Valid</td>\n",
              "      <td>H6</td>\n",
              "      <td>720</td>\n",
              "      <td>Fell</td>\n",
              "      <td>1951-01-01T00:00:00.000</td>\n",
              "      <td>56.183330</td>\n",
              "      <td>10.233330</td>\n",
              "      <td>{'latitude': '56.18333', 'longitude': '10.23333'}</td>\n",
              "      <td>NaN</td>\n",
              "      <td>NaN</td>\n",
              "    </tr>\n",
              "    <tr>\n",
              "      <th>2</th>\n",
              "      <td>Abee</td>\n",
              "      <td>6</td>\n",
              "      <td>Valid</td>\n",
              "      <td>EH4</td>\n",
              "      <td>107000</td>\n",
              "      <td>Fell</td>\n",
              "      <td>1952-01-01T00:00:00.000</td>\n",
              "      <td>54.216670</td>\n",
              "      <td>-113.000000</td>\n",
              "      <td>{'latitude': '54.21667', 'longitude': '-113.0'}</td>\n",
              "      <td>NaN</td>\n",
              "      <td>NaN</td>\n",
              "    </tr>\n",
              "  </tbody>\n",
              "</table>\n",
              "</div>"
            ],
            "text/plain": [
              "     name id nametype recclass    mass  fall                     year  \\\n",
              "0  Aachen  1    Valid       L5      21  Fell  1880-01-01T00:00:00.000   \n",
              "1  Aarhus  2    Valid       H6     720  Fell  1951-01-01T00:00:00.000   \n",
              "2    Abee  6    Valid      EH4  107000  Fell  1952-01-01T00:00:00.000   \n",
              "\n",
              "      reclat      reclong                                        geolocation  \\\n",
              "0  50.775000     6.083330     {'latitude': '50.775', 'longitude': '6.08333'}   \n",
              "1  56.183330    10.233330  {'latitude': '56.18333', 'longitude': '10.23333'}   \n",
              "2  54.216670  -113.000000    {'latitude': '54.21667', 'longitude': '-113.0'}   \n",
              "\n",
              "  :@computed_region_cbhk_fwbd :@computed_region_nnqa_25f4  \n",
              "0                         NaN                         NaN  \n",
              "1                         NaN                         NaN  \n",
              "2                         NaN                         NaN  "
            ]
          },
          "execution_count": 7,
          "metadata": {},
          "output_type": "execute_result"
        }
      ],
      "source": [
        "import pandas as pd\n",
        "\n",
        "df = pd.DataFrame(payload)\n",
        "df.head(3)"
      ]
    },
    {
      "cell_type": "markdown",
      "id": "09f139e3-ae7a-4f53-96ae-5f8de4e641d2",
      "metadata": {
        "editable": true,
        "tags": [],
        "id": "09f139e3-ae7a-4f53-96ae-5f8de4e641d2"
      },
      "source": [
        "*Tip: `df.to_csv('data.csv')` writes this data to a new file called `data.csv`.*"
      ]
    },
    {
      "cell_type": "markdown",
      "id": "0a263d5a-d2c5-46c2-990c-3894b3ed39bf",
      "metadata": {
        "editable": true,
        "tags": [],
        "id": "0a263d5a-d2c5-46c2-990c-3894b3ed39bf"
      },
      "source": [
        "## Inspecting the data\n",
        "Now that we have some data, we need to perform an initial inspection of it. This gives us information on what the data looks like, how many rows/columns there are, and how much data we have."
      ]
    },
    {
      "cell_type": "markdown",
      "id": "f3e541dd-73d2-4f40-82e0-b8a59aa48b04",
      "metadata": {
        "editable": true,
        "tags": [],
        "id": "f3e541dd-73d2-4f40-82e0-b8a59aa48b04"
      },
      "source": [
        "Let's inspect the `meteorites` data."
      ]
    },
    {
      "cell_type": "markdown",
      "id": "0246c277-5638-49a9-a7e1-6e82b1c15265",
      "metadata": {
        "editable": true,
        "tags": [],
        "id": "0246c277-5638-49a9-a7e1-6e82b1c15265"
      },
      "source": [
        "#### How many rows and columns are there?"
      ]
    },
    {
      "cell_type": "code",
      "execution_count": null,
      "id": "d968d99d-dbf8-4402-a556-4200e13afe72",
      "metadata": {
        "editable": true,
        "tags": [],
        "id": "d968d99d-dbf8-4402-a556-4200e13afe72",
        "outputId": "c794c97c-0d36-47ee-9a28-c236ad661e1c"
      },
      "outputs": [
        {
          "data": {
            "text/plain": [
              "(45716, 10)"
            ]
          },
          "execution_count": 8,
          "metadata": {},
          "output_type": "execute_result"
        }
      ],
      "source": [
        "meteorites.shape"
      ]
    },
    {
      "cell_type": "markdown",
      "id": "8ee994e7-25e0-4062-ae29-fadb0f698c88",
      "metadata": {
        "editable": true,
        "tags": [],
        "id": "8ee994e7-25e0-4062-ae29-fadb0f698c88"
      },
      "source": [
        "#### What are the column names?"
      ]
    },
    {
      "cell_type": "code",
      "execution_count": null,
      "id": "24045c3d-085f-485d-b5a7-422037b24272",
      "metadata": {
        "editable": true,
        "tags": [],
        "id": "24045c3d-085f-485d-b5a7-422037b24272",
        "outputId": "036d097c-f6dc-49bc-f17c-5288be5f39e1"
      },
      "outputs": [
        {
          "data": {
            "text/plain": [
              "Index(['name', 'id', 'nametype', 'recclass', 'mass (g)', 'fall', 'year',\n",
              "       'reclat', 'reclong', 'GeoLocation'],\n",
              "      dtype='object')"
            ]
          },
          "execution_count": 9,
          "metadata": {},
          "output_type": "execute_result"
        }
      ],
      "source": [
        "meteorites.columns"
      ]
    },
    {
      "cell_type": "markdown",
      "id": "3b138718-9c73-40f0-b4d2-7280a688fa89",
      "metadata": {
        "editable": true,
        "tags": [],
        "id": "3b138718-9c73-40f0-b4d2-7280a688fa89"
      },
      "source": [
        "#### What type of data does each column currently hold?"
      ]
    },
    {
      "cell_type": "code",
      "execution_count": null,
      "id": "408c70cc-f900-45d2-828d-827ba6dd4123",
      "metadata": {
        "editable": true,
        "tags": [],
        "id": "408c70cc-f900-45d2-828d-827ba6dd4123",
        "outputId": "c7fb57e7-fcdc-4c6b-e9ea-e75e771b2861"
      },
      "outputs": [
        {
          "data": {
            "text/plain": [
              "name            object\n",
              "id               int64\n",
              "nametype        object\n",
              "recclass        object\n",
              "mass (g)       float64\n",
              "fall            object\n",
              "year            object\n",
              "reclat         float64\n",
              "reclong        float64\n",
              "GeoLocation     object\n",
              "dtype: object"
            ]
          },
          "execution_count": 10,
          "metadata": {},
          "output_type": "execute_result"
        }
      ],
      "source": [
        "meteorites.dtypes"
      ]
    },
    {
      "cell_type": "markdown",
      "id": "d6011183-5228-4f1c-a7c4-3f4e1cc9a4db",
      "metadata": {
        "editable": true,
        "tags": [],
        "id": "d6011183-5228-4f1c-a7c4-3f4e1cc9a4db"
      },
      "source": [
        "#### What does the data look like?"
      ]
    },
    {
      "cell_type": "code",
      "execution_count": null,
      "id": "3de2f605-ca0a-4e5e-9add-76309296adf5",
      "metadata": {
        "editable": true,
        "tags": [],
        "id": "3de2f605-ca0a-4e5e-9add-76309296adf5",
        "outputId": "b90b0721-5acc-4659-cdee-661bfbcfea97"
      },
      "outputs": [
        {
          "data": {
            "text/html": [
              "<div>\n",
              "<style scoped>\n",
              "    .dataframe tbody tr th:only-of-type {\n",
              "        vertical-align: middle;\n",
              "    }\n",
              "\n",
              "    .dataframe tbody tr th {\n",
              "        vertical-align: top;\n",
              "    }\n",
              "\n",
              "    .dataframe thead th {\n",
              "        text-align: right;\n",
              "    }\n",
              "</style>\n",
              "<table border=\"1\" class=\"dataframe\">\n",
              "  <thead>\n",
              "    <tr style=\"text-align: right;\">\n",
              "      <th></th>\n",
              "      <th>name</th>\n",
              "      <th>id</th>\n",
              "      <th>nametype</th>\n",
              "      <th>recclass</th>\n",
              "      <th>mass (g)</th>\n",
              "      <th>fall</th>\n",
              "      <th>year</th>\n",
              "      <th>reclat</th>\n",
              "      <th>reclong</th>\n",
              "      <th>GeoLocation</th>\n",
              "    </tr>\n",
              "  </thead>\n",
              "  <tbody>\n",
              "    <tr>\n",
              "      <th>0</th>\n",
              "      <td>Aachen</td>\n",
              "      <td>1</td>\n",
              "      <td>Valid</td>\n",
              "      <td>L5</td>\n",
              "      <td>21.0</td>\n",
              "      <td>Fell</td>\n",
              "      <td>01/01/1880 12:00:00 AM</td>\n",
              "      <td>50.77500</td>\n",
              "      <td>6.08333</td>\n",
              "      <td>(50.775, 6.08333)</td>\n",
              "    </tr>\n",
              "    <tr>\n",
              "      <th>1</th>\n",
              "      <td>Aarhus</td>\n",
              "      <td>2</td>\n",
              "      <td>Valid</td>\n",
              "      <td>H6</td>\n",
              "      <td>720.0</td>\n",
              "      <td>Fell</td>\n",
              "      <td>01/01/1951 12:00:00 AM</td>\n",
              "      <td>56.18333</td>\n",
              "      <td>10.23333</td>\n",
              "      <td>(56.18333, 10.23333)</td>\n",
              "    </tr>\n",
              "    <tr>\n",
              "      <th>2</th>\n",
              "      <td>Abee</td>\n",
              "      <td>6</td>\n",
              "      <td>Valid</td>\n",
              "      <td>EH4</td>\n",
              "      <td>107000.0</td>\n",
              "      <td>Fell</td>\n",
              "      <td>01/01/1952 12:00:00 AM</td>\n",
              "      <td>54.21667</td>\n",
              "      <td>-113.00000</td>\n",
              "      <td>(54.21667, -113.0)</td>\n",
              "    </tr>\n",
              "    <tr>\n",
              "      <th>3</th>\n",
              "      <td>Acapulco</td>\n",
              "      <td>10</td>\n",
              "      <td>Valid</td>\n",
              "      <td>Acapulcoite</td>\n",
              "      <td>1914.0</td>\n",
              "      <td>Fell</td>\n",
              "      <td>01/01/1976 12:00:00 AM</td>\n",
              "      <td>16.88333</td>\n",
              "      <td>-99.90000</td>\n",
              "      <td>(16.88333, -99.9)</td>\n",
              "    </tr>\n",
              "    <tr>\n",
              "      <th>4</th>\n",
              "      <td>Achiras</td>\n",
              "      <td>370</td>\n",
              "      <td>Valid</td>\n",
              "      <td>L6</td>\n",
              "      <td>780.0</td>\n",
              "      <td>Fell</td>\n",
              "      <td>01/01/1902 12:00:00 AM</td>\n",
              "      <td>-33.16667</td>\n",
              "      <td>-64.95000</td>\n",
              "      <td>(-33.16667, -64.95)</td>\n",
              "    </tr>\n",
              "  </tbody>\n",
              "</table>\n",
              "</div>"
            ],
            "text/plain": [
              "       name   id nametype     recclass  mass (g)  fall  \\\n",
              "0    Aachen    1    Valid           L5      21.0  Fell   \n",
              "1    Aarhus    2    Valid           H6     720.0  Fell   \n",
              "2      Abee    6    Valid          EH4  107000.0  Fell   \n",
              "3  Acapulco   10    Valid  Acapulcoite    1914.0  Fell   \n",
              "4   Achiras  370    Valid           L6     780.0  Fell   \n",
              "\n",
              "                     year    reclat    reclong           GeoLocation  \n",
              "0  01/01/1880 12:00:00 AM  50.77500    6.08333     (50.775, 6.08333)  \n",
              "1  01/01/1951 12:00:00 AM  56.18333   10.23333  (56.18333, 10.23333)  \n",
              "2  01/01/1952 12:00:00 AM  54.21667 -113.00000    (54.21667, -113.0)  \n",
              "3  01/01/1976 12:00:00 AM  16.88333  -99.90000     (16.88333, -99.9)  \n",
              "4  01/01/1902 12:00:00 AM -33.16667  -64.95000   (-33.16667, -64.95)  "
            ]
          },
          "execution_count": 11,
          "metadata": {},
          "output_type": "execute_result"
        }
      ],
      "source": [
        "meteorites.head()"
      ]
    },
    {
      "cell_type": "markdown",
      "id": "54e767f9-adb9-4921-86be-75426fb13846",
      "metadata": {
        "editable": true,
        "tags": [],
        "id": "54e767f9-adb9-4921-86be-75426fb13846"
      },
      "source": [
        "Sometimes there may be extraneous data at the end of the file, so checking the bottom few rows is also important:"
      ]
    },
    {
      "cell_type": "code",
      "execution_count": null,
      "id": "3b7f694d-c34c-4042-a051-07dc8759a11c",
      "metadata": {
        "editable": true,
        "tags": [],
        "id": "3b7f694d-c34c-4042-a051-07dc8759a11c",
        "outputId": "82cfe076-b177-4183-e1dc-18dd93c60d25"
      },
      "outputs": [
        {
          "data": {
            "text/html": [
              "<div>\n",
              "<style scoped>\n",
              "    .dataframe tbody tr th:only-of-type {\n",
              "        vertical-align: middle;\n",
              "    }\n",
              "\n",
              "    .dataframe tbody tr th {\n",
              "        vertical-align: top;\n",
              "    }\n",
              "\n",
              "    .dataframe thead th {\n",
              "        text-align: right;\n",
              "    }\n",
              "</style>\n",
              "<table border=\"1\" class=\"dataframe\">\n",
              "  <thead>\n",
              "    <tr style=\"text-align: right;\">\n",
              "      <th></th>\n",
              "      <th>name</th>\n",
              "      <th>id</th>\n",
              "      <th>nametype</th>\n",
              "      <th>recclass</th>\n",
              "      <th>mass (g)</th>\n",
              "      <th>fall</th>\n",
              "      <th>year</th>\n",
              "      <th>reclat</th>\n",
              "      <th>reclong</th>\n",
              "      <th>GeoLocation</th>\n",
              "    </tr>\n",
              "  </thead>\n",
              "  <tbody>\n",
              "    <tr>\n",
              "      <th>45711</th>\n",
              "      <td>Zillah 002</td>\n",
              "      <td>31356</td>\n",
              "      <td>Valid</td>\n",
              "      <td>Eucrite</td>\n",
              "      <td>172.0</td>\n",
              "      <td>Found</td>\n",
              "      <td>01/01/1990 12:00:00 AM</td>\n",
              "      <td>29.03700</td>\n",
              "      <td>17.01850</td>\n",
              "      <td>(29.037, 17.0185)</td>\n",
              "    </tr>\n",
              "    <tr>\n",
              "      <th>45712</th>\n",
              "      <td>Zinder</td>\n",
              "      <td>30409</td>\n",
              "      <td>Valid</td>\n",
              "      <td>Pallasite, ungrouped</td>\n",
              "      <td>46.0</td>\n",
              "      <td>Found</td>\n",
              "      <td>01/01/1999 12:00:00 AM</td>\n",
              "      <td>13.78333</td>\n",
              "      <td>8.96667</td>\n",
              "      <td>(13.78333, 8.96667)</td>\n",
              "    </tr>\n",
              "    <tr>\n",
              "      <th>45713</th>\n",
              "      <td>Zlin</td>\n",
              "      <td>30410</td>\n",
              "      <td>Valid</td>\n",
              "      <td>H4</td>\n",
              "      <td>3.3</td>\n",
              "      <td>Found</td>\n",
              "      <td>01/01/1939 12:00:00 AM</td>\n",
              "      <td>49.25000</td>\n",
              "      <td>17.66667</td>\n",
              "      <td>(49.25, 17.66667)</td>\n",
              "    </tr>\n",
              "    <tr>\n",
              "      <th>45714</th>\n",
              "      <td>Zubkovsky</td>\n",
              "      <td>31357</td>\n",
              "      <td>Valid</td>\n",
              "      <td>L6</td>\n",
              "      <td>2167.0</td>\n",
              "      <td>Found</td>\n",
              "      <td>01/01/2003 12:00:00 AM</td>\n",
              "      <td>49.78917</td>\n",
              "      <td>41.50460</td>\n",
              "      <td>(49.78917, 41.5046)</td>\n",
              "    </tr>\n",
              "    <tr>\n",
              "      <th>45715</th>\n",
              "      <td>Zulu Queen</td>\n",
              "      <td>30414</td>\n",
              "      <td>Valid</td>\n",
              "      <td>L3.7</td>\n",
              "      <td>200.0</td>\n",
              "      <td>Found</td>\n",
              "      <td>01/01/1976 12:00:00 AM</td>\n",
              "      <td>33.98333</td>\n",
              "      <td>-115.68333</td>\n",
              "      <td>(33.98333, -115.68333)</td>\n",
              "    </tr>\n",
              "  </tbody>\n",
              "</table>\n",
              "</div>"
            ],
            "text/plain": [
              "             name     id nametype              recclass  mass (g)   fall  \\\n",
              "45711  Zillah 002  31356    Valid               Eucrite     172.0  Found   \n",
              "45712      Zinder  30409    Valid  Pallasite, ungrouped      46.0  Found   \n",
              "45713        Zlin  30410    Valid                    H4       3.3  Found   \n",
              "45714   Zubkovsky  31357    Valid                    L6    2167.0  Found   \n",
              "45715  Zulu Queen  30414    Valid                  L3.7     200.0  Found   \n",
              "\n",
              "                         year    reclat    reclong             GeoLocation  \n",
              "45711  01/01/1990 12:00:00 AM  29.03700   17.01850       (29.037, 17.0185)  \n",
              "45712  01/01/1999 12:00:00 AM  13.78333    8.96667     (13.78333, 8.96667)  \n",
              "45713  01/01/1939 12:00:00 AM  49.25000   17.66667       (49.25, 17.66667)  \n",
              "45714  01/01/2003 12:00:00 AM  49.78917   41.50460     (49.78917, 41.5046)  \n",
              "45715  01/01/1976 12:00:00 AM  33.98333 -115.68333  (33.98333, -115.68333)  "
            ]
          },
          "execution_count": 12,
          "metadata": {},
          "output_type": "execute_result"
        }
      ],
      "source": [
        "meteorites.tail()"
      ]
    },
    {
      "cell_type": "markdown",
      "id": "3f4989da-09bd-4f22-bb5a-b69d57e07b00",
      "metadata": {
        "editable": true,
        "tags": [],
        "id": "3f4989da-09bd-4f22-bb5a-b69d57e07b00"
      },
      "source": [
        "#### Get some information about the DataFrame"
      ]
    },
    {
      "cell_type": "code",
      "execution_count": null,
      "id": "acbaa48e-0ebc-4412-b5ff-bded4f43e806",
      "metadata": {
        "editable": true,
        "tags": [],
        "id": "acbaa48e-0ebc-4412-b5ff-bded4f43e806",
        "outputId": "feb5770e-2eac-4a57-f58d-55f4ebae59d4"
      },
      "outputs": [
        {
          "name": "stdout",
          "output_type": "stream",
          "text": [
            "<class 'pandas.core.frame.DataFrame'>\n",
            "RangeIndex: 45716 entries, 0 to 45715\n",
            "Data columns (total 10 columns):\n",
            " #   Column       Non-Null Count  Dtype  \n",
            "---  ------       --------------  -----  \n",
            " 0   name         45716 non-null  object \n",
            " 1   id           45716 non-null  int64  \n",
            " 2   nametype     45716 non-null  object \n",
            " 3   recclass     45716 non-null  object \n",
            " 4   mass (g)     45585 non-null  float64\n",
            " 5   fall         45716 non-null  object \n",
            " 6   year         45425 non-null  object \n",
            " 7   reclat       38401 non-null  float64\n",
            " 8   reclong      38401 non-null  float64\n",
            " 9   GeoLocation  38401 non-null  object \n",
            "dtypes: float64(3), int64(1), object(6)\n",
            "memory usage: 3.5+ MB\n"
          ]
        }
      ],
      "source": [
        "meteorites.info()"
      ]
    },
    {
      "cell_type": "markdown",
      "id": "462f9df6-c1fc-4eaa-9c43-e810badb2257",
      "metadata": {
        "editable": true,
        "tags": [],
        "id": "462f9df6-c1fc-4eaa-9c43-e810badb2257"
      },
      "source": [
        "### [Exercise 1.1](./workbook.ipynb#Exercise-1.1)\n",
        "\n",
        "##### Create a DataFrame by reading in the `2019_Yellow_Taxi_Trip_Data.csv` file. Examine the first 5 rows."
      ]
    },
    {
      "cell_type": "code",
      "execution_count": 24,
      "id": "317e4c45-7afe-425f-a7a2-cad55f20a91e",
      "metadata": {
        "editable": true,
        "tags": [],
        "id": "317e4c45-7afe-425f-a7a2-cad55f20a91e",
        "outputId": "75dfb00c-0c74-4c45-c92c-e4ccb092658f",
        "colab": {
          "base_uri": "https://localhost:8080/",
          "height": 244
        }
      },
      "outputs": [
        {
          "output_type": "stream",
          "name": "stdout",
          "text": [
            "/content\n"
          ]
        },
        {
          "output_type": "execute_result",
          "data": {
            "text/plain": [
              "   vendorid     tpep_pickup_datetime    tpep_dropoff_datetime  \\\n",
              "0         2  2019-10-23T16:39:42.000  2019-10-23T17:14:10.000   \n",
              "1         1  2019-10-23T16:32:08.000  2019-10-23T16:45:26.000   \n",
              "2         2  2019-10-23T16:08:44.000  2019-10-23T16:21:11.000   \n",
              "3         2  2019-10-23T16:22:44.000  2019-10-23T16:43:26.000   \n",
              "4         2  2019-10-23T16:45:11.000  2019-10-23T16:58:49.000   \n",
              "\n",
              "   passenger_count  trip_distance  ratecodeid store_and_fwd_flag  \\\n",
              "0                1           7.93           1                  N   \n",
              "1                1           2.00           1                  N   \n",
              "2                1           1.36           1                  N   \n",
              "3                1           1.00           1                  N   \n",
              "4                1           1.96           1                  N   \n",
              "\n",
              "   pulocationid  dolocationid  payment_type  fare_amount  extra  mta_tax  \\\n",
              "0           138           170             1         29.5      1      0.5   \n",
              "1            11            26             1         10.5      1      0.5   \n",
              "2           163           162             1          9.5      1      0.5   \n",
              "3           170           163             1         13.0      1      0.5   \n",
              "4           163           236             1         10.5      1      0.5   \n",
              "\n",
              "   tip_amount  tolls_amount  improvement_surcharge  total_amount  \\\n",
              "0        7.98          6.12                    0.3         47.90   \n",
              "1        0.00          0.00                    0.3         12.30   \n",
              "2        2.00          0.00                    0.3         15.80   \n",
              "3        4.32          0.00                    0.3         21.62   \n",
              "4        0.50          0.00                    0.3         15.30   \n",
              "\n",
              "   congestion_surcharge  \n",
              "0                   2.5  \n",
              "1                   0.0  \n",
              "2                   2.5  \n",
              "3                   2.5  \n",
              "4                   2.5  "
            ],
            "text/html": [
              "\n",
              "  <div id=\"df-7f47427e-d0d3-40a8-a6f3-cdcb64a12399\" class=\"colab-df-container\">\n",
              "    <div>\n",
              "<style scoped>\n",
              "    .dataframe tbody tr th:only-of-type {\n",
              "        vertical-align: middle;\n",
              "    }\n",
              "\n",
              "    .dataframe tbody tr th {\n",
              "        vertical-align: top;\n",
              "    }\n",
              "\n",
              "    .dataframe thead th {\n",
              "        text-align: right;\n",
              "    }\n",
              "</style>\n",
              "<table border=\"1\" class=\"dataframe\">\n",
              "  <thead>\n",
              "    <tr style=\"text-align: right;\">\n",
              "      <th></th>\n",
              "      <th>vendorid</th>\n",
              "      <th>tpep_pickup_datetime</th>\n",
              "      <th>tpep_dropoff_datetime</th>\n",
              "      <th>passenger_count</th>\n",
              "      <th>trip_distance</th>\n",
              "      <th>ratecodeid</th>\n",
              "      <th>store_and_fwd_flag</th>\n",
              "      <th>pulocationid</th>\n",
              "      <th>dolocationid</th>\n",
              "      <th>payment_type</th>\n",
              "      <th>fare_amount</th>\n",
              "      <th>extra</th>\n",
              "      <th>mta_tax</th>\n",
              "      <th>tip_amount</th>\n",
              "      <th>tolls_amount</th>\n",
              "      <th>improvement_surcharge</th>\n",
              "      <th>total_amount</th>\n",
              "      <th>congestion_surcharge</th>\n",
              "    </tr>\n",
              "  </thead>\n",
              "  <tbody>\n",
              "    <tr>\n",
              "      <th>0</th>\n",
              "      <td>2</td>\n",
              "      <td>2019-10-23T16:39:42.000</td>\n",
              "      <td>2019-10-23T17:14:10.000</td>\n",
              "      <td>1</td>\n",
              "      <td>7.93</td>\n",
              "      <td>1</td>\n",
              "      <td>N</td>\n",
              "      <td>138</td>\n",
              "      <td>170</td>\n",
              "      <td>1</td>\n",
              "      <td>29.5</td>\n",
              "      <td>1</td>\n",
              "      <td>0.5</td>\n",
              "      <td>7.98</td>\n",
              "      <td>6.12</td>\n",
              "      <td>0.3</td>\n",
              "      <td>47.90</td>\n",
              "      <td>2.5</td>\n",
              "    </tr>\n",
              "    <tr>\n",
              "      <th>1</th>\n",
              "      <td>1</td>\n",
              "      <td>2019-10-23T16:32:08.000</td>\n",
              "      <td>2019-10-23T16:45:26.000</td>\n",
              "      <td>1</td>\n",
              "      <td>2.00</td>\n",
              "      <td>1</td>\n",
              "      <td>N</td>\n",
              "      <td>11</td>\n",
              "      <td>26</td>\n",
              "      <td>1</td>\n",
              "      <td>10.5</td>\n",
              "      <td>1</td>\n",
              "      <td>0.5</td>\n",
              "      <td>0.00</td>\n",
              "      <td>0.00</td>\n",
              "      <td>0.3</td>\n",
              "      <td>12.30</td>\n",
              "      <td>0.0</td>\n",
              "    </tr>\n",
              "    <tr>\n",
              "      <th>2</th>\n",
              "      <td>2</td>\n",
              "      <td>2019-10-23T16:08:44.000</td>\n",
              "      <td>2019-10-23T16:21:11.000</td>\n",
              "      <td>1</td>\n",
              "      <td>1.36</td>\n",
              "      <td>1</td>\n",
              "      <td>N</td>\n",
              "      <td>163</td>\n",
              "      <td>162</td>\n",
              "      <td>1</td>\n",
              "      <td>9.5</td>\n",
              "      <td>1</td>\n",
              "      <td>0.5</td>\n",
              "      <td>2.00</td>\n",
              "      <td>0.00</td>\n",
              "      <td>0.3</td>\n",
              "      <td>15.80</td>\n",
              "      <td>2.5</td>\n",
              "    </tr>\n",
              "    <tr>\n",
              "      <th>3</th>\n",
              "      <td>2</td>\n",
              "      <td>2019-10-23T16:22:44.000</td>\n",
              "      <td>2019-10-23T16:43:26.000</td>\n",
              "      <td>1</td>\n",
              "      <td>1.00</td>\n",
              "      <td>1</td>\n",
              "      <td>N</td>\n",
              "      <td>170</td>\n",
              "      <td>163</td>\n",
              "      <td>1</td>\n",
              "      <td>13.0</td>\n",
              "      <td>1</td>\n",
              "      <td>0.5</td>\n",
              "      <td>4.32</td>\n",
              "      <td>0.00</td>\n",
              "      <td>0.3</td>\n",
              "      <td>21.62</td>\n",
              "      <td>2.5</td>\n",
              "    </tr>\n",
              "    <tr>\n",
              "      <th>4</th>\n",
              "      <td>2</td>\n",
              "      <td>2019-10-23T16:45:11.000</td>\n",
              "      <td>2019-10-23T16:58:49.000</td>\n",
              "      <td>1</td>\n",
              "      <td>1.96</td>\n",
              "      <td>1</td>\n",
              "      <td>N</td>\n",
              "      <td>163</td>\n",
              "      <td>236</td>\n",
              "      <td>1</td>\n",
              "      <td>10.5</td>\n",
              "      <td>1</td>\n",
              "      <td>0.5</td>\n",
              "      <td>0.50</td>\n",
              "      <td>0.00</td>\n",
              "      <td>0.3</td>\n",
              "      <td>15.30</td>\n",
              "      <td>2.5</td>\n",
              "    </tr>\n",
              "  </tbody>\n",
              "</table>\n",
              "</div>\n",
              "    <div class=\"colab-df-buttons\">\n",
              "\n",
              "  <div class=\"colab-df-container\">\n",
              "    <button class=\"colab-df-convert\" onclick=\"convertToInteractive('df-7f47427e-d0d3-40a8-a6f3-cdcb64a12399')\"\n",
              "            title=\"Convert this dataframe to an interactive table.\"\n",
              "            style=\"display:none;\">\n",
              "\n",
              "  <svg xmlns=\"http://www.w3.org/2000/svg\" height=\"24px\" viewBox=\"0 -960 960 960\">\n",
              "    <path d=\"M120-120v-720h720v720H120Zm60-500h600v-160H180v160Zm220 220h160v-160H400v160Zm0 220h160v-160H400v160ZM180-400h160v-160H180v160Zm440 0h160v-160H620v160ZM180-180h160v-160H180v160Zm440 0h160v-160H620v160Z\"/>\n",
              "  </svg>\n",
              "    </button>\n",
              "\n",
              "  <style>\n",
              "    .colab-df-container {\n",
              "      display:flex;\n",
              "      gap: 12px;\n",
              "    }\n",
              "\n",
              "    .colab-df-convert {\n",
              "      background-color: #E8F0FE;\n",
              "      border: none;\n",
              "      border-radius: 50%;\n",
              "      cursor: pointer;\n",
              "      display: none;\n",
              "      fill: #1967D2;\n",
              "      height: 32px;\n",
              "      padding: 0 0 0 0;\n",
              "      width: 32px;\n",
              "    }\n",
              "\n",
              "    .colab-df-convert:hover {\n",
              "      background-color: #E2EBFA;\n",
              "      box-shadow: 0px 1px 2px rgba(60, 64, 67, 0.3), 0px 1px 3px 1px rgba(60, 64, 67, 0.15);\n",
              "      fill: #174EA6;\n",
              "    }\n",
              "\n",
              "    .colab-df-buttons div {\n",
              "      margin-bottom: 4px;\n",
              "    }\n",
              "\n",
              "    [theme=dark] .colab-df-convert {\n",
              "      background-color: #3B4455;\n",
              "      fill: #D2E3FC;\n",
              "    }\n",
              "\n",
              "    [theme=dark] .colab-df-convert:hover {\n",
              "      background-color: #434B5C;\n",
              "      box-shadow: 0px 1px 3px 1px rgba(0, 0, 0, 0.15);\n",
              "      filter: drop-shadow(0px 1px 2px rgba(0, 0, 0, 0.3));\n",
              "      fill: #FFFFFF;\n",
              "    }\n",
              "  </style>\n",
              "\n",
              "    <script>\n",
              "      const buttonEl =\n",
              "        document.querySelector('#df-7f47427e-d0d3-40a8-a6f3-cdcb64a12399 button.colab-df-convert');\n",
              "      buttonEl.style.display =\n",
              "        google.colab.kernel.accessAllowed ? 'block' : 'none';\n",
              "\n",
              "      async function convertToInteractive(key) {\n",
              "        const element = document.querySelector('#df-7f47427e-d0d3-40a8-a6f3-cdcb64a12399');\n",
              "        const dataTable =\n",
              "          await google.colab.kernel.invokeFunction('convertToInteractive',\n",
              "                                                    [key], {});\n",
              "        if (!dataTable) return;\n",
              "\n",
              "        const docLinkHtml = 'Like what you see? Visit the ' +\n",
              "          '<a target=\"_blank\" href=https://colab.research.google.com/notebooks/data_table.ipynb>data table notebook</a>'\n",
              "          + ' to learn more about interactive tables.';\n",
              "        element.innerHTML = '';\n",
              "        dataTable['output_type'] = 'display_data';\n",
              "        await google.colab.output.renderOutput(dataTable, element);\n",
              "        const docLink = document.createElement('div');\n",
              "        docLink.innerHTML = docLinkHtml;\n",
              "        element.appendChild(docLink);\n",
              "      }\n",
              "    </script>\n",
              "  </div>\n",
              "\n",
              "\n",
              "    <div id=\"df-efae0cf3-a575-4a16-993c-3bc30ff20d2d\">\n",
              "      <button class=\"colab-df-quickchart\" onclick=\"quickchart('df-efae0cf3-a575-4a16-993c-3bc30ff20d2d')\"\n",
              "                title=\"Suggest charts\"\n",
              "                style=\"display:none;\">\n",
              "\n",
              "<svg xmlns=\"http://www.w3.org/2000/svg\" height=\"24px\"viewBox=\"0 0 24 24\"\n",
              "     width=\"24px\">\n",
              "    <g>\n",
              "        <path d=\"M19 3H5c-1.1 0-2 .9-2 2v14c0 1.1.9 2 2 2h14c1.1 0 2-.9 2-2V5c0-1.1-.9-2-2-2zM9 17H7v-7h2v7zm4 0h-2V7h2v10zm4 0h-2v-4h2v4z\"/>\n",
              "    </g>\n",
              "</svg>\n",
              "      </button>\n",
              "\n",
              "<style>\n",
              "  .colab-df-quickchart {\n",
              "      --bg-color: #E8F0FE;\n",
              "      --fill-color: #1967D2;\n",
              "      --hover-bg-color: #E2EBFA;\n",
              "      --hover-fill-color: #174EA6;\n",
              "      --disabled-fill-color: #AAA;\n",
              "      --disabled-bg-color: #DDD;\n",
              "  }\n",
              "\n",
              "  [theme=dark] .colab-df-quickchart {\n",
              "      --bg-color: #3B4455;\n",
              "      --fill-color: #D2E3FC;\n",
              "      --hover-bg-color: #434B5C;\n",
              "      --hover-fill-color: #FFFFFF;\n",
              "      --disabled-bg-color: #3B4455;\n",
              "      --disabled-fill-color: #666;\n",
              "  }\n",
              "\n",
              "  .colab-df-quickchart {\n",
              "    background-color: var(--bg-color);\n",
              "    border: none;\n",
              "    border-radius: 50%;\n",
              "    cursor: pointer;\n",
              "    display: none;\n",
              "    fill: var(--fill-color);\n",
              "    height: 32px;\n",
              "    padding: 0;\n",
              "    width: 32px;\n",
              "  }\n",
              "\n",
              "  .colab-df-quickchart:hover {\n",
              "    background-color: var(--hover-bg-color);\n",
              "    box-shadow: 0 1px 2px rgba(60, 64, 67, 0.3), 0 1px 3px 1px rgba(60, 64, 67, 0.15);\n",
              "    fill: var(--button-hover-fill-color);\n",
              "  }\n",
              "\n",
              "  .colab-df-quickchart-complete:disabled,\n",
              "  .colab-df-quickchart-complete:disabled:hover {\n",
              "    background-color: var(--disabled-bg-color);\n",
              "    fill: var(--disabled-fill-color);\n",
              "    box-shadow: none;\n",
              "  }\n",
              "\n",
              "  .colab-df-spinner {\n",
              "    border: 2px solid var(--fill-color);\n",
              "    border-color: transparent;\n",
              "    border-bottom-color: var(--fill-color);\n",
              "    animation:\n",
              "      spin 1s steps(1) infinite;\n",
              "  }\n",
              "\n",
              "  @keyframes spin {\n",
              "    0% {\n",
              "      border-color: transparent;\n",
              "      border-bottom-color: var(--fill-color);\n",
              "      border-left-color: var(--fill-color);\n",
              "    }\n",
              "    20% {\n",
              "      border-color: transparent;\n",
              "      border-left-color: var(--fill-color);\n",
              "      border-top-color: var(--fill-color);\n",
              "    }\n",
              "    30% {\n",
              "      border-color: transparent;\n",
              "      border-left-color: var(--fill-color);\n",
              "      border-top-color: var(--fill-color);\n",
              "      border-right-color: var(--fill-color);\n",
              "    }\n",
              "    40% {\n",
              "      border-color: transparent;\n",
              "      border-right-color: var(--fill-color);\n",
              "      border-top-color: var(--fill-color);\n",
              "    }\n",
              "    60% {\n",
              "      border-color: transparent;\n",
              "      border-right-color: var(--fill-color);\n",
              "    }\n",
              "    80% {\n",
              "      border-color: transparent;\n",
              "      border-right-color: var(--fill-color);\n",
              "      border-bottom-color: var(--fill-color);\n",
              "    }\n",
              "    90% {\n",
              "      border-color: transparent;\n",
              "      border-bottom-color: var(--fill-color);\n",
              "    }\n",
              "  }\n",
              "</style>\n",
              "\n",
              "      <script>\n",
              "        async function quickchart(key) {\n",
              "          const quickchartButtonEl =\n",
              "            document.querySelector('#' + key + ' button');\n",
              "          quickchartButtonEl.disabled = true;  // To prevent multiple clicks.\n",
              "          quickchartButtonEl.classList.add('colab-df-spinner');\n",
              "          try {\n",
              "            const charts = await google.colab.kernel.invokeFunction(\n",
              "                'suggestCharts', [key], {});\n",
              "          } catch (error) {\n",
              "            console.error('Error during call to suggestCharts:', error);\n",
              "          }\n",
              "          quickchartButtonEl.classList.remove('colab-df-spinner');\n",
              "          quickchartButtonEl.classList.add('colab-df-quickchart-complete');\n",
              "        }\n",
              "        (() => {\n",
              "          let quickchartButtonEl =\n",
              "            document.querySelector('#df-efae0cf3-a575-4a16-993c-3bc30ff20d2d button');\n",
              "          quickchartButtonEl.style.display =\n",
              "            google.colab.kernel.accessAllowed ? 'block' : 'none';\n",
              "        })();\n",
              "      </script>\n",
              "    </div>\n",
              "\n",
              "  <div id=\"id_ddb4b80b-f74c-4020-a341-c22096c5e814\">\n",
              "    <style>\n",
              "      .colab-df-generate {\n",
              "        background-color: #E8F0FE;\n",
              "        border: none;\n",
              "        border-radius: 50%;\n",
              "        cursor: pointer;\n",
              "        display: none;\n",
              "        fill: #1967D2;\n",
              "        height: 32px;\n",
              "        padding: 0 0 0 0;\n",
              "        width: 32px;\n",
              "      }\n",
              "\n",
              "      .colab-df-generate:hover {\n",
              "        background-color: #E2EBFA;\n",
              "        box-shadow: 0px 1px 2px rgba(60, 64, 67, 0.3), 0px 1px 3px 1px rgba(60, 64, 67, 0.15);\n",
              "        fill: #174EA6;\n",
              "      }\n",
              "\n",
              "      [theme=dark] .colab-df-generate {\n",
              "        background-color: #3B4455;\n",
              "        fill: #D2E3FC;\n",
              "      }\n",
              "\n",
              "      [theme=dark] .colab-df-generate:hover {\n",
              "        background-color: #434B5C;\n",
              "        box-shadow: 0px 1px 3px 1px rgba(0, 0, 0, 0.15);\n",
              "        filter: drop-shadow(0px 1px 2px rgba(0, 0, 0, 0.3));\n",
              "        fill: #FFFFFF;\n",
              "      }\n",
              "    </style>\n",
              "    <button class=\"colab-df-generate\" onclick=\"generateWithVariable('taxis')\"\n",
              "            title=\"Generate code using this dataframe.\"\n",
              "            style=\"display:none;\">\n",
              "\n",
              "  <svg xmlns=\"http://www.w3.org/2000/svg\" height=\"24px\"viewBox=\"0 0 24 24\"\n",
              "       width=\"24px\">\n",
              "    <path d=\"M7,19H8.4L18.45,9,17,7.55,7,17.6ZM5,21V16.75L18.45,3.32a2,2,0,0,1,2.83,0l1.4,1.43a1.91,1.91,0,0,1,.58,1.4,1.91,1.91,0,0,1-.58,1.4L9.25,21ZM18.45,9,17,7.55Zm-12,3A5.31,5.31,0,0,0,4.9,8.1,5.31,5.31,0,0,0,1,6.5,5.31,5.31,0,0,0,4.9,4.9,5.31,5.31,0,0,0,6.5,1,5.31,5.31,0,0,0,8.1,4.9,5.31,5.31,0,0,0,12,6.5,5.46,5.46,0,0,0,6.5,12Z\"/>\n",
              "  </svg>\n",
              "    </button>\n",
              "    <script>\n",
              "      (() => {\n",
              "      const buttonEl =\n",
              "        document.querySelector('#id_ddb4b80b-f74c-4020-a341-c22096c5e814 button.colab-df-generate');\n",
              "      buttonEl.style.display =\n",
              "        google.colab.kernel.accessAllowed ? 'block' : 'none';\n",
              "\n",
              "      buttonEl.onclick = () => {\n",
              "        google.colab.notebook.generateWithVariable('taxis');\n",
              "      }\n",
              "      })();\n",
              "    </script>\n",
              "  </div>\n",
              "\n",
              "    </div>\n",
              "  </div>\n"
            ],
            "application/vnd.google.colaboratory.intrinsic+json": {
              "type": "dataframe",
              "variable_name": "taxis",
              "summary": "{\n  \"name\": \"taxis\",\n  \"rows\": 5,\n  \"fields\": [\n    {\n      \"column\": \"vendorid\",\n      \"properties\": {\n        \"dtype\": \"number\",\n        \"std\": 0,\n        \"min\": 1,\n        \"max\": 2,\n        \"num_unique_values\": 2,\n        \"samples\": [\n          1,\n          2\n        ],\n        \"semantic_type\": \"\",\n        \"description\": \"\"\n      }\n    },\n    {\n      \"column\": \"tpep_pickup_datetime\",\n      \"properties\": {\n        \"dtype\": \"object\",\n        \"num_unique_values\": 5,\n        \"samples\": [\n          \"2019-10-23T16:32:08.000\",\n          \"2019-10-23T16:45:11.000\"\n        ],\n        \"semantic_type\": \"\",\n        \"description\": \"\"\n      }\n    },\n    {\n      \"column\": \"tpep_dropoff_datetime\",\n      \"properties\": {\n        \"dtype\": \"object\",\n        \"num_unique_values\": 5,\n        \"samples\": [\n          \"2019-10-23T16:45:26.000\",\n          \"2019-10-23T16:58:49.000\"\n        ],\n        \"semantic_type\": \"\",\n        \"description\": \"\"\n      }\n    },\n    {\n      \"column\": \"passenger_count\",\n      \"properties\": {\n        \"dtype\": \"number\",\n        \"std\": 0,\n        \"min\": 1,\n        \"max\": 1,\n        \"num_unique_values\": 1,\n        \"samples\": [\n          1\n        ],\n        \"semantic_type\": \"\",\n        \"description\": \"\"\n      }\n    },\n    {\n      \"column\": \"trip_distance\",\n      \"properties\": {\n        \"dtype\": \"number\",\n        \"std\": 2.8706967795293186,\n        \"min\": 1.0,\n        \"max\": 7.93,\n        \"num_unique_values\": 5,\n        \"samples\": [\n          2.0\n        ],\n        \"semantic_type\": \"\",\n        \"description\": \"\"\n      }\n    },\n    {\n      \"column\": \"ratecodeid\",\n      \"properties\": {\n        \"dtype\": \"number\",\n        \"std\": 0,\n        \"min\": 1,\n        \"max\": 1,\n        \"num_unique_values\": 1,\n        \"samples\": [\n          1\n        ],\n        \"semantic_type\": \"\",\n        \"description\": \"\"\n      }\n    },\n    {\n      \"column\": \"store_and_fwd_flag\",\n      \"properties\": {\n        \"dtype\": \"category\",\n        \"num_unique_values\": 1,\n        \"samples\": [\n          \"N\"\n        ],\n        \"semantic_type\": \"\",\n        \"description\": \"\"\n      }\n    },\n    {\n      \"column\": \"pulocationid\",\n      \"properties\": {\n        \"dtype\": \"number\",\n        \"std\": 67,\n        \"min\": 11,\n        \"max\": 170,\n        \"num_unique_values\": 4,\n        \"samples\": [\n          11\n        ],\n        \"semantic_type\": \"\",\n        \"description\": \"\"\n      }\n    },\n    {\n      \"column\": \"dolocationid\",\n      \"properties\": {\n        \"dtype\": \"number\",\n        \"std\": 76,\n        \"min\": 26,\n        \"max\": 236,\n        \"num_unique_values\": 5,\n        \"samples\": [\n          26\n        ],\n        \"semantic_type\": \"\",\n        \"description\": \"\"\n      }\n    },\n    {\n      \"column\": \"payment_type\",\n      \"properties\": {\n        \"dtype\": \"number\",\n        \"std\": 0,\n        \"min\": 1,\n        \"max\": 1,\n        \"num_unique_values\": 1,\n        \"samples\": [\n          1\n        ],\n        \"semantic_type\": \"\",\n        \"description\": \"\"\n      }\n    },\n    {\n      \"column\": \"fare_amount\",\n      \"properties\": {\n        \"dtype\": \"number\",\n        \"std\": 8.429116205154607,\n        \"min\": 9.5,\n        \"max\": 29.5,\n        \"num_unique_values\": 4,\n        \"samples\": [\n          10.5\n        ],\n        \"semantic_type\": \"\",\n        \"description\": \"\"\n      }\n    },\n    {\n      \"column\": \"extra\",\n      \"properties\": {\n        \"dtype\": \"number\",\n        \"std\": 0,\n        \"min\": 1,\n        \"max\": 1,\n        \"num_unique_values\": 1,\n        \"samples\": [\n          1\n        ],\n        \"semantic_type\": \"\",\n        \"description\": \"\"\n      }\n    },\n    {\n      \"column\": \"mta_tax\",\n      \"properties\": {\n        \"dtype\": \"number\",\n        \"std\": 0.0,\n        \"min\": 0.5,\n        \"max\": 0.5,\n        \"num_unique_values\": 1,\n        \"samples\": [\n          0.5\n        ],\n        \"semantic_type\": \"\",\n        \"description\": \"\"\n      }\n    },\n    {\n      \"column\": \"tip_amount\",\n      \"properties\": {\n        \"dtype\": \"number\",\n        \"std\": 3.2705045482310524,\n        \"min\": 0.0,\n        \"max\": 7.98,\n        \"num_unique_values\": 5,\n        \"samples\": [\n          0.0\n        ],\n        \"semantic_type\": \"\",\n        \"description\": \"\"\n      }\n    },\n    {\n      \"column\": \"tolls_amount\",\n      \"properties\": {\n        \"dtype\": \"number\",\n        \"std\": 2.7369472044597427,\n        \"min\": 0.0,\n        \"max\": 6.12,\n        \"num_unique_values\": 2,\n        \"samples\": [\n          0.0\n        ],\n        \"semantic_type\": \"\",\n        \"description\": \"\"\n      }\n    },\n    {\n      \"column\": \"improvement_surcharge\",\n      \"properties\": {\n        \"dtype\": \"number\",\n        \"std\": 0.0,\n        \"min\": 0.3,\n        \"max\": 0.3,\n        \"num_unique_values\": 1,\n        \"samples\": [\n          0.3\n        ],\n        \"semantic_type\": \"\",\n        \"description\": \"\"\n      }\n    },\n    {\n      \"column\": \"total_amount\",\n      \"properties\": {\n        \"dtype\": \"number\",\n        \"std\": 14.548789640379022,\n        \"min\": 12.3,\n        \"max\": 47.9,\n        \"num_unique_values\": 5,\n        \"samples\": [\n          12.3\n        ],\n        \"semantic_type\": \"\",\n        \"description\": \"\"\n      }\n    },\n    {\n      \"column\": \"congestion_surcharge\",\n      \"properties\": {\n        \"dtype\": \"number\",\n        \"std\": 1.118033988749895,\n        \"min\": 0.0,\n        \"max\": 2.5,\n        \"num_unique_values\": 2,\n        \"samples\": [\n          0.0\n        ],\n        \"semantic_type\": \"\",\n        \"description\": \"\"\n      }\n    }\n  ]\n}"
            }
          },
          "metadata": {},
          "execution_count": 24
        }
      ],
      "source": [
        "# Complete this exercise in the workbook.ipynb file\n",
        "# Click on `Exercise 1.1` above to open the workbook.ipynb file\n",
        "\n",
        "# WARNING: if you complete the exercise here, your cell numbers\n",
        "# for the rest of the training might not match the slides\n",
        "\n",
        "import os\n",
        "current_working_directory = os.getcwd()\n",
        "print(current_working_directory)\n",
        "\n",
        "\n",
        "\n",
        "\n",
        "import pandas as pd\n",
        "\n",
        "taxis = pd.read_csv('2019_Yellow_Taxi_Trip_Data.csv', nrows = 5)\n",
        "\n",
        "taxis\n"
      ]
    },
    {
      "cell_type": "markdown",
      "id": "230a3c7f-8907-43d1-b7e0-9fe678c04d17",
      "metadata": {
        "editable": true,
        "tags": [],
        "id": "230a3c7f-8907-43d1-b7e0-9fe678c04d17"
      },
      "source": [
        "### [Exercise 1.2](./workbook.ipynb#Exercise-1.2)\n",
        "\n",
        "##### Find the dimensions (number of rows and number of columns) in the data."
      ]
    },
    {
      "cell_type": "code",
      "execution_count": null,
      "id": "ceab7259-c412-4f8b-b0be-e3cc801836b0",
      "metadata": {
        "editable": true,
        "tags": [],
        "id": "ceab7259-c412-4f8b-b0be-e3cc801836b0"
      },
      "outputs": [],
      "source": [
        "# Complete this exercise in the workbook.ipynb file\n",
        "# Click on `Exercise 1.2` above to open the workbook.ipynb file\n",
        "\n",
        "# WARNING: if you complete the exercise here, your cell numbers\n",
        "# for the rest of the training might not match the slides"
      ]
    },
    {
      "cell_type": "markdown",
      "id": "0d63f1c9-2b23-4585-8df0-358159b26801",
      "metadata": {
        "editable": true,
        "tags": [],
        "id": "0d63f1c9-2b23-4585-8df0-358159b26801"
      },
      "source": [
        "## Extracting subsets\n",
        "\n",
        "A crucial part of working with DataFrames is extracting subsets of the data: finding rows that meet a certain set of criteria, isolating columns/rows of interest, etc. After narrowing down our data, we are closer to discovering insights. This section will be the backbone of many analysis tasks."
      ]
    },
    {
      "cell_type": "markdown",
      "id": "9c1a3793-29f7-4c0e-90d3-230475c611f7",
      "metadata": {
        "editable": true,
        "tags": [],
        "id": "9c1a3793-29f7-4c0e-90d3-230475c611f7"
      },
      "source": [
        "#### Selecting columns\n",
        "\n",
        "We can select columns as attributes if their names would be valid Python variables:"
      ]
    },
    {
      "cell_type": "code",
      "execution_count": null,
      "id": "2a084a5d-3d1c-4bef-9704-7c7ec69a73b1",
      "metadata": {
        "editable": true,
        "tags": [],
        "id": "2a084a5d-3d1c-4bef-9704-7c7ec69a73b1",
        "outputId": "52ec1cea-13b8-4657-c9f0-28f697855248"
      },
      "outputs": [
        {
          "data": {
            "text/plain": [
              "0            Aachen\n",
              "1            Aarhus\n",
              "2              Abee\n",
              "3          Acapulco\n",
              "4           Achiras\n",
              "            ...    \n",
              "45711    Zillah 002\n",
              "45712        Zinder\n",
              "45713          Zlin\n",
              "45714     Zubkovsky\n",
              "45715    Zulu Queen\n",
              "Name: name, Length: 45716, dtype: object"
            ]
          },
          "execution_count": 16,
          "metadata": {},
          "output_type": "execute_result"
        }
      ],
      "source": [
        "meteorites.name"
      ]
    },
    {
      "cell_type": "markdown",
      "id": "ac335459-7a87-443f-b349-7a7b826a5ffa",
      "metadata": {
        "editable": true,
        "tags": [],
        "id": "ac335459-7a87-443f-b349-7a7b826a5ffa"
      },
      "source": [
        "If they aren't, we have to select them as keys. However, we can select multiple columns at once this way:"
      ]
    },
    {
      "cell_type": "code",
      "execution_count": null,
      "id": "df5c98ef-0227-44e4-8038-de151a9d8717",
      "metadata": {
        "editable": true,
        "tags": [],
        "id": "df5c98ef-0227-44e4-8038-de151a9d8717",
        "outputId": "0e9ad576-537b-4628-8308-c54deff5ac3d"
      },
      "outputs": [
        {
          "data": {
            "text/html": [
              "<div>\n",
              "<style scoped>\n",
              "    .dataframe tbody tr th:only-of-type {\n",
              "        vertical-align: middle;\n",
              "    }\n",
              "\n",
              "    .dataframe tbody tr th {\n",
              "        vertical-align: top;\n",
              "    }\n",
              "\n",
              "    .dataframe thead th {\n",
              "        text-align: right;\n",
              "    }\n",
              "</style>\n",
              "<table border=\"1\" class=\"dataframe\">\n",
              "  <thead>\n",
              "    <tr style=\"text-align: right;\">\n",
              "      <th></th>\n",
              "      <th>name</th>\n",
              "      <th>mass (g)</th>\n",
              "    </tr>\n",
              "  </thead>\n",
              "  <tbody>\n",
              "    <tr>\n",
              "      <th>0</th>\n",
              "      <td>Aachen</td>\n",
              "      <td>21.0</td>\n",
              "    </tr>\n",
              "    <tr>\n",
              "      <th>1</th>\n",
              "      <td>Aarhus</td>\n",
              "      <td>720.0</td>\n",
              "    </tr>\n",
              "    <tr>\n",
              "      <th>2</th>\n",
              "      <td>Abee</td>\n",
              "      <td>107000.0</td>\n",
              "    </tr>\n",
              "    <tr>\n",
              "      <th>3</th>\n",
              "      <td>Acapulco</td>\n",
              "      <td>1914.0</td>\n",
              "    </tr>\n",
              "    <tr>\n",
              "      <th>4</th>\n",
              "      <td>Achiras</td>\n",
              "      <td>780.0</td>\n",
              "    </tr>\n",
              "    <tr>\n",
              "      <th>...</th>\n",
              "      <td>...</td>\n",
              "      <td>...</td>\n",
              "    </tr>\n",
              "    <tr>\n",
              "      <th>45711</th>\n",
              "      <td>Zillah 002</td>\n",
              "      <td>172.0</td>\n",
              "    </tr>\n",
              "    <tr>\n",
              "      <th>45712</th>\n",
              "      <td>Zinder</td>\n",
              "      <td>46.0</td>\n",
              "    </tr>\n",
              "    <tr>\n",
              "      <th>45713</th>\n",
              "      <td>Zlin</td>\n",
              "      <td>3.3</td>\n",
              "    </tr>\n",
              "    <tr>\n",
              "      <th>45714</th>\n",
              "      <td>Zubkovsky</td>\n",
              "      <td>2167.0</td>\n",
              "    </tr>\n",
              "    <tr>\n",
              "      <th>45715</th>\n",
              "      <td>Zulu Queen</td>\n",
              "      <td>200.0</td>\n",
              "    </tr>\n",
              "  </tbody>\n",
              "</table>\n",
              "<p>45716 rows × 2 columns</p>\n",
              "</div>"
            ],
            "text/plain": [
              "             name  mass (g)\n",
              "0          Aachen      21.0\n",
              "1          Aarhus     720.0\n",
              "2            Abee  107000.0\n",
              "3        Acapulco    1914.0\n",
              "4         Achiras     780.0\n",
              "...           ...       ...\n",
              "45711  Zillah 002     172.0\n",
              "45712      Zinder      46.0\n",
              "45713        Zlin       3.3\n",
              "45714   Zubkovsky    2167.0\n",
              "45715  Zulu Queen     200.0\n",
              "\n",
              "[45716 rows x 2 columns]"
            ]
          },
          "execution_count": 17,
          "metadata": {},
          "output_type": "execute_result"
        }
      ],
      "source": [
        "meteorites[['name', 'mass (g)']]"
      ]
    },
    {
      "cell_type": "markdown",
      "id": "c3c390e8-1199-4cfe-a8f9-6998ddfa9f14",
      "metadata": {
        "editable": true,
        "tags": [],
        "id": "c3c390e8-1199-4cfe-a8f9-6998ddfa9f14"
      },
      "source": [
        "#### Selecting rows"
      ]
    },
    {
      "cell_type": "code",
      "execution_count": null,
      "id": "c1a63e64-8a01-4762-b1c2-79b2f1068ea9",
      "metadata": {
        "editable": true,
        "tags": [],
        "id": "c1a63e64-8a01-4762-b1c2-79b2f1068ea9",
        "outputId": "8b3964fb-c9f4-4d40-ec17-b40ab3f07bdb"
      },
      "outputs": [
        {
          "data": {
            "text/html": [
              "<div>\n",
              "<style scoped>\n",
              "    .dataframe tbody tr th:only-of-type {\n",
              "        vertical-align: middle;\n",
              "    }\n",
              "\n",
              "    .dataframe tbody tr th {\n",
              "        vertical-align: top;\n",
              "    }\n",
              "\n",
              "    .dataframe thead th {\n",
              "        text-align: right;\n",
              "    }\n",
              "</style>\n",
              "<table border=\"1\" class=\"dataframe\">\n",
              "  <thead>\n",
              "    <tr style=\"text-align: right;\">\n",
              "      <th></th>\n",
              "      <th>name</th>\n",
              "      <th>id</th>\n",
              "      <th>nametype</th>\n",
              "      <th>recclass</th>\n",
              "      <th>mass (g)</th>\n",
              "      <th>fall</th>\n",
              "      <th>year</th>\n",
              "      <th>reclat</th>\n",
              "      <th>reclong</th>\n",
              "      <th>GeoLocation</th>\n",
              "    </tr>\n",
              "  </thead>\n",
              "  <tbody>\n",
              "    <tr>\n",
              "      <th>100</th>\n",
              "      <td>Benton</td>\n",
              "      <td>5026</td>\n",
              "      <td>Valid</td>\n",
              "      <td>LL6</td>\n",
              "      <td>2840.0</td>\n",
              "      <td>Fell</td>\n",
              "      <td>01/01/1949 12:00:00 AM</td>\n",
              "      <td>45.95000</td>\n",
              "      <td>-67.55000</td>\n",
              "      <td>(45.95, -67.55)</td>\n",
              "    </tr>\n",
              "    <tr>\n",
              "      <th>101</th>\n",
              "      <td>Berduc</td>\n",
              "      <td>48975</td>\n",
              "      <td>Valid</td>\n",
              "      <td>L6</td>\n",
              "      <td>270.0</td>\n",
              "      <td>Fell</td>\n",
              "      <td>01/01/2008 12:00:00 AM</td>\n",
              "      <td>-31.91000</td>\n",
              "      <td>-58.32833</td>\n",
              "      <td>(-31.91, -58.32833)</td>\n",
              "    </tr>\n",
              "    <tr>\n",
              "      <th>102</th>\n",
              "      <td>Béréba</td>\n",
              "      <td>5028</td>\n",
              "      <td>Valid</td>\n",
              "      <td>Eucrite-mmict</td>\n",
              "      <td>18000.0</td>\n",
              "      <td>Fell</td>\n",
              "      <td>01/01/1924 12:00:00 AM</td>\n",
              "      <td>11.65000</td>\n",
              "      <td>-3.65000</td>\n",
              "      <td>(11.65, -3.65)</td>\n",
              "    </tr>\n",
              "    <tr>\n",
              "      <th>103</th>\n",
              "      <td>Berlanguillas</td>\n",
              "      <td>5029</td>\n",
              "      <td>Valid</td>\n",
              "      <td>L6</td>\n",
              "      <td>1440.0</td>\n",
              "      <td>Fell</td>\n",
              "      <td>01/01/1811 12:00:00 AM</td>\n",
              "      <td>41.68333</td>\n",
              "      <td>-3.80000</td>\n",
              "      <td>(41.68333, -3.8)</td>\n",
              "    </tr>\n",
              "  </tbody>\n",
              "</table>\n",
              "</div>"
            ],
            "text/plain": [
              "              name     id nametype       recclass  mass (g)  fall  \\\n",
              "100         Benton   5026    Valid            LL6    2840.0  Fell   \n",
              "101         Berduc  48975    Valid             L6     270.0  Fell   \n",
              "102         Béréba   5028    Valid  Eucrite-mmict   18000.0  Fell   \n",
              "103  Berlanguillas   5029    Valid             L6    1440.0  Fell   \n",
              "\n",
              "                       year    reclat   reclong          GeoLocation  \n",
              "100  01/01/1949 12:00:00 AM  45.95000 -67.55000      (45.95, -67.55)  \n",
              "101  01/01/2008 12:00:00 AM -31.91000 -58.32833  (-31.91, -58.32833)  \n",
              "102  01/01/1924 12:00:00 AM  11.65000  -3.65000       (11.65, -3.65)  \n",
              "103  01/01/1811 12:00:00 AM  41.68333  -3.80000     (41.68333, -3.8)  "
            ]
          },
          "execution_count": 18,
          "metadata": {},
          "output_type": "execute_result"
        }
      ],
      "source": [
        "meteorites[100:104]"
      ]
    },
    {
      "cell_type": "markdown",
      "id": "84a61a58-50ca-4f10-ad26-36db5022ee9f",
      "metadata": {
        "editable": true,
        "tags": [],
        "id": "84a61a58-50ca-4f10-ad26-36db5022ee9f"
      },
      "source": [
        "#### Indexing\n",
        "\n",
        "We use `iloc[]` to select rows and columns by their position:"
      ]
    },
    {
      "cell_type": "code",
      "execution_count": null,
      "id": "50087ab8-2a1d-4312-a7c7-791bc7c35e9b",
      "metadata": {
        "editable": true,
        "tags": [],
        "id": "50087ab8-2a1d-4312-a7c7-791bc7c35e9b",
        "outputId": "60a1387a-3bf6-4295-8664-11c0309be5e7"
      },
      "outputs": [
        {
          "data": {
            "text/html": [
              "<div>\n",
              "<style scoped>\n",
              "    .dataframe tbody tr th:only-of-type {\n",
              "        vertical-align: middle;\n",
              "    }\n",
              "\n",
              "    .dataframe tbody tr th {\n",
              "        vertical-align: top;\n",
              "    }\n",
              "\n",
              "    .dataframe thead th {\n",
              "        text-align: right;\n",
              "    }\n",
              "</style>\n",
              "<table border=\"1\" class=\"dataframe\">\n",
              "  <thead>\n",
              "    <tr style=\"text-align: right;\">\n",
              "      <th></th>\n",
              "      <th>name</th>\n",
              "      <th>recclass</th>\n",
              "      <th>mass (g)</th>\n",
              "      <th>year</th>\n",
              "    </tr>\n",
              "  </thead>\n",
              "  <tbody>\n",
              "    <tr>\n",
              "      <th>100</th>\n",
              "      <td>Benton</td>\n",
              "      <td>LL6</td>\n",
              "      <td>2840.0</td>\n",
              "      <td>01/01/1949 12:00:00 AM</td>\n",
              "    </tr>\n",
              "    <tr>\n",
              "      <th>101</th>\n",
              "      <td>Berduc</td>\n",
              "      <td>L6</td>\n",
              "      <td>270.0</td>\n",
              "      <td>01/01/2008 12:00:00 AM</td>\n",
              "    </tr>\n",
              "    <tr>\n",
              "      <th>102</th>\n",
              "      <td>Béréba</td>\n",
              "      <td>Eucrite-mmict</td>\n",
              "      <td>18000.0</td>\n",
              "      <td>01/01/1924 12:00:00 AM</td>\n",
              "    </tr>\n",
              "    <tr>\n",
              "      <th>103</th>\n",
              "      <td>Berlanguillas</td>\n",
              "      <td>L6</td>\n",
              "      <td>1440.0</td>\n",
              "      <td>01/01/1811 12:00:00 AM</td>\n",
              "    </tr>\n",
              "  </tbody>\n",
              "</table>\n",
              "</div>"
            ],
            "text/plain": [
              "              name       recclass  mass (g)                    year\n",
              "100         Benton            LL6    2840.0  01/01/1949 12:00:00 AM\n",
              "101         Berduc             L6     270.0  01/01/2008 12:00:00 AM\n",
              "102         Béréba  Eucrite-mmict   18000.0  01/01/1924 12:00:00 AM\n",
              "103  Berlanguillas             L6    1440.0  01/01/1811 12:00:00 AM"
            ]
          },
          "execution_count": 19,
          "metadata": {},
          "output_type": "execute_result"
        }
      ],
      "source": [
        "meteorites.iloc[100:104, [0, 3, 4, 6]]"
      ]
    },
    {
      "cell_type": "markdown",
      "id": "1798f9cc-8f05-4147-a351-cb3f9f6b765c",
      "metadata": {
        "editable": true,
        "tags": [],
        "id": "1798f9cc-8f05-4147-a351-cb3f9f6b765c"
      },
      "source": [
        "We use `loc[]` to select by name:"
      ]
    },
    {
      "cell_type": "code",
      "execution_count": null,
      "id": "eb7a1cdb-e0cc-4c58-ae96-1dabe4d5fad7",
      "metadata": {
        "editable": true,
        "tags": [],
        "id": "eb7a1cdb-e0cc-4c58-ae96-1dabe4d5fad7",
        "outputId": "1c7f8cac-eccc-4fae-e5f2-cd42d417b1d1"
      },
      "outputs": [
        {
          "data": {
            "text/html": [
              "<div>\n",
              "<style scoped>\n",
              "    .dataframe tbody tr th:only-of-type {\n",
              "        vertical-align: middle;\n",
              "    }\n",
              "\n",
              "    .dataframe tbody tr th {\n",
              "        vertical-align: top;\n",
              "    }\n",
              "\n",
              "    .dataframe thead th {\n",
              "        text-align: right;\n",
              "    }\n",
              "</style>\n",
              "<table border=\"1\" class=\"dataframe\">\n",
              "  <thead>\n",
              "    <tr style=\"text-align: right;\">\n",
              "      <th></th>\n",
              "      <th>mass (g)</th>\n",
              "      <th>fall</th>\n",
              "      <th>year</th>\n",
              "    </tr>\n",
              "  </thead>\n",
              "  <tbody>\n",
              "    <tr>\n",
              "      <th>100</th>\n",
              "      <td>2840.0</td>\n",
              "      <td>Fell</td>\n",
              "      <td>01/01/1949 12:00:00 AM</td>\n",
              "    </tr>\n",
              "    <tr>\n",
              "      <th>101</th>\n",
              "      <td>270.0</td>\n",
              "      <td>Fell</td>\n",
              "      <td>01/01/2008 12:00:00 AM</td>\n",
              "    </tr>\n",
              "    <tr>\n",
              "      <th>102</th>\n",
              "      <td>18000.0</td>\n",
              "      <td>Fell</td>\n",
              "      <td>01/01/1924 12:00:00 AM</td>\n",
              "    </tr>\n",
              "    <tr>\n",
              "      <th>103</th>\n",
              "      <td>1440.0</td>\n",
              "      <td>Fell</td>\n",
              "      <td>01/01/1811 12:00:00 AM</td>\n",
              "    </tr>\n",
              "    <tr>\n",
              "      <th>104</th>\n",
              "      <td>960.0</td>\n",
              "      <td>Fell</td>\n",
              "      <td>01/01/2004 12:00:00 AM</td>\n",
              "    </tr>\n",
              "  </tbody>\n",
              "</table>\n",
              "</div>"
            ],
            "text/plain": [
              "     mass (g)  fall                    year\n",
              "100    2840.0  Fell  01/01/1949 12:00:00 AM\n",
              "101     270.0  Fell  01/01/2008 12:00:00 AM\n",
              "102   18000.0  Fell  01/01/1924 12:00:00 AM\n",
              "103    1440.0  Fell  01/01/1811 12:00:00 AM\n",
              "104     960.0  Fell  01/01/2004 12:00:00 AM"
            ]
          },
          "execution_count": 20,
          "metadata": {},
          "output_type": "execute_result"
        }
      ],
      "source": [
        "meteorites.loc[100:104, 'mass (g)':'year']"
      ]
    },
    {
      "cell_type": "markdown",
      "id": "d601db18-6091-4234-916c-f5d5e6f8fd86",
      "metadata": {
        "editable": true,
        "tags": [],
        "id": "d601db18-6091-4234-916c-f5d5e6f8fd86"
      },
      "source": [
        "#### Filtering with Boolean masks\n",
        "\n",
        "A **Boolean mask** is a array-like structure of Boolean values &ndash; it's a way to specify which rows/columns we want to select (`True`) and which we don't (`False`)."
      ]
    },
    {
      "cell_type": "markdown",
      "id": "753004e2-c9ef-4dbf-86cc-fd5d48babeb2",
      "metadata": {
        "editable": true,
        "tags": [],
        "id": "753004e2-c9ef-4dbf-86cc-fd5d48babeb2"
      },
      "source": [
        "Here's an example of a Boolean mask for meteorites weighing more than 50 grams that were found on Earth (i.e., they were not observed falling):"
      ]
    },
    {
      "cell_type": "code",
      "execution_count": null,
      "id": "1f59f4cb-9f82-42ef-8c5f-c42d0f48447d",
      "metadata": {
        "editable": true,
        "tags": [],
        "id": "1f59f4cb-9f82-42ef-8c5f-c42d0f48447d",
        "outputId": "f7f27d21-044f-493e-9fa8-7541a0507fec"
      },
      "outputs": [
        {
          "data": {
            "text/plain": [
              "0        False\n",
              "1        False\n",
              "2        False\n",
              "3        False\n",
              "4        False\n",
              "         ...  \n",
              "45711     True\n",
              "45712    False\n",
              "45713    False\n",
              "45714     True\n",
              "45715     True\n",
              "Length: 45716, dtype: bool"
            ]
          },
          "execution_count": 21,
          "metadata": {},
          "output_type": "execute_result"
        }
      ],
      "source": [
        "(meteorites['mass (g)'] > 50) & (meteorites.fall == 'Found')"
      ]
    },
    {
      "cell_type": "markdown",
      "id": "26a1b2dd-08fc-40bc-a260-6445edc31382",
      "metadata": {
        "editable": true,
        "tags": [],
        "id": "26a1b2dd-08fc-40bc-a260-6445edc31382"
      },
      "source": [
        "**Important**: Take note of the syntax here. We surround each condition with parentheses, and we use bitwise operators (`&`, `|`, `~`) instead of logical operators (`and`, `or`, `not`)."
      ]
    },
    {
      "cell_type": "markdown",
      "id": "0086f863-cd77-4e0d-bea7-364b18d4ed6a",
      "metadata": {
        "editable": true,
        "tags": [],
        "id": "0086f863-cd77-4e0d-bea7-364b18d4ed6a"
      },
      "source": [
        "We can use a Boolean mask to select the subset of meteorites weighing more than 1 million grams (1,000 kilograms or roughly 2,205 pounds) that were observed falling:"
      ]
    },
    {
      "cell_type": "code",
      "execution_count": null,
      "id": "46727a7f-d5e7-4de9-b69a-762413de9567",
      "metadata": {
        "editable": true,
        "tags": [],
        "id": "46727a7f-d5e7-4de9-b69a-762413de9567",
        "outputId": "92573793-edb2-4269-a118-ba2067d2a22f"
      },
      "outputs": [
        {
          "data": {
            "text/html": [
              "<div>\n",
              "<style scoped>\n",
              "    .dataframe tbody tr th:only-of-type {\n",
              "        vertical-align: middle;\n",
              "    }\n",
              "\n",
              "    .dataframe tbody tr th {\n",
              "        vertical-align: top;\n",
              "    }\n",
              "\n",
              "    .dataframe thead th {\n",
              "        text-align: right;\n",
              "    }\n",
              "</style>\n",
              "<table border=\"1\" class=\"dataframe\">\n",
              "  <thead>\n",
              "    <tr style=\"text-align: right;\">\n",
              "      <th></th>\n",
              "      <th>name</th>\n",
              "      <th>id</th>\n",
              "      <th>nametype</th>\n",
              "      <th>recclass</th>\n",
              "      <th>mass (g)</th>\n",
              "      <th>fall</th>\n",
              "      <th>year</th>\n",
              "      <th>reclat</th>\n",
              "      <th>reclong</th>\n",
              "      <th>GeoLocation</th>\n",
              "    </tr>\n",
              "  </thead>\n",
              "  <tbody>\n",
              "    <tr>\n",
              "      <th>29</th>\n",
              "      <td>Allende</td>\n",
              "      <td>2278</td>\n",
              "      <td>Valid</td>\n",
              "      <td>CV3</td>\n",
              "      <td>2000000.0</td>\n",
              "      <td>Fell</td>\n",
              "      <td>01/01/1969 12:00:00 AM</td>\n",
              "      <td>26.96667</td>\n",
              "      <td>-105.31667</td>\n",
              "      <td>(26.96667, -105.31667)</td>\n",
              "    </tr>\n",
              "    <tr>\n",
              "      <th>419</th>\n",
              "      <td>Jilin</td>\n",
              "      <td>12171</td>\n",
              "      <td>Valid</td>\n",
              "      <td>H5</td>\n",
              "      <td>4000000.0</td>\n",
              "      <td>Fell</td>\n",
              "      <td>01/01/1976 12:00:00 AM</td>\n",
              "      <td>44.05000</td>\n",
              "      <td>126.16667</td>\n",
              "      <td>(44.05, 126.16667)</td>\n",
              "    </tr>\n",
              "    <tr>\n",
              "      <th>506</th>\n",
              "      <td>Kunya-Urgench</td>\n",
              "      <td>12379</td>\n",
              "      <td>Valid</td>\n",
              "      <td>H5</td>\n",
              "      <td>1100000.0</td>\n",
              "      <td>Fell</td>\n",
              "      <td>01/01/1998 12:00:00 AM</td>\n",
              "      <td>42.25000</td>\n",
              "      <td>59.20000</td>\n",
              "      <td>(42.25, 59.2)</td>\n",
              "    </tr>\n",
              "    <tr>\n",
              "      <th>707</th>\n",
              "      <td>Norton County</td>\n",
              "      <td>17922</td>\n",
              "      <td>Valid</td>\n",
              "      <td>Aubrite</td>\n",
              "      <td>1100000.0</td>\n",
              "      <td>Fell</td>\n",
              "      <td>01/01/1948 12:00:00 AM</td>\n",
              "      <td>39.68333</td>\n",
              "      <td>-99.86667</td>\n",
              "      <td>(39.68333, -99.86667)</td>\n",
              "    </tr>\n",
              "    <tr>\n",
              "      <th>920</th>\n",
              "      <td>Sikhote-Alin</td>\n",
              "      <td>23593</td>\n",
              "      <td>Valid</td>\n",
              "      <td>Iron, IIAB</td>\n",
              "      <td>23000000.0</td>\n",
              "      <td>Fell</td>\n",
              "      <td>01/01/1947 12:00:00 AM</td>\n",
              "      <td>46.16000</td>\n",
              "      <td>134.65333</td>\n",
              "      <td>(46.16, 134.65333)</td>\n",
              "    </tr>\n",
              "  </tbody>\n",
              "</table>\n",
              "</div>"
            ],
            "text/plain": [
              "              name     id nametype    recclass    mass (g)  fall  \\\n",
              "29         Allende   2278    Valid         CV3   2000000.0  Fell   \n",
              "419          Jilin  12171    Valid          H5   4000000.0  Fell   \n",
              "506  Kunya-Urgench  12379    Valid          H5   1100000.0  Fell   \n",
              "707  Norton County  17922    Valid     Aubrite   1100000.0  Fell   \n",
              "920   Sikhote-Alin  23593    Valid  Iron, IIAB  23000000.0  Fell   \n",
              "\n",
              "                       year    reclat    reclong             GeoLocation  \n",
              "29   01/01/1969 12:00:00 AM  26.96667 -105.31667  (26.96667, -105.31667)  \n",
              "419  01/01/1976 12:00:00 AM  44.05000  126.16667      (44.05, 126.16667)  \n",
              "506  01/01/1998 12:00:00 AM  42.25000   59.20000           (42.25, 59.2)  \n",
              "707  01/01/1948 12:00:00 AM  39.68333  -99.86667   (39.68333, -99.86667)  \n",
              "920  01/01/1947 12:00:00 AM  46.16000  134.65333      (46.16, 134.65333)  "
            ]
          },
          "execution_count": 22,
          "metadata": {},
          "output_type": "execute_result"
        }
      ],
      "source": [
        "meteorites[(meteorites['mass (g)'] > 1e6) & (meteorites.fall == 'Fell')]"
      ]
    },
    {
      "cell_type": "markdown",
      "id": "055cc350-e9e0-42b2-839b-4ad45312e172",
      "metadata": {
        "editable": true,
        "tags": [],
        "id": "055cc350-e9e0-42b2-839b-4ad45312e172"
      },
      "source": [
        "*Tip: Boolean masks can be used with `loc[]` and `iloc[]`.*"
      ]
    },
    {
      "cell_type": "markdown",
      "id": "b4e791ea-92e5-4f30-974c-63b9195af1c2",
      "metadata": {
        "editable": true,
        "tags": [],
        "id": "b4e791ea-92e5-4f30-974c-63b9195af1c2"
      },
      "source": [
        "An alternative to this is the `query()` method:"
      ]
    },
    {
      "cell_type": "code",
      "execution_count": null,
      "id": "bde8231a-3f4a-43e1-a90e-051a125a00af",
      "metadata": {
        "editable": true,
        "tags": [],
        "id": "bde8231a-3f4a-43e1-a90e-051a125a00af",
        "outputId": "b2d9e86f-ed3f-40dc-eec0-47c1ee5554ed"
      },
      "outputs": [
        {
          "data": {
            "text/html": [
              "<div>\n",
              "<style scoped>\n",
              "    .dataframe tbody tr th:only-of-type {\n",
              "        vertical-align: middle;\n",
              "    }\n",
              "\n",
              "    .dataframe tbody tr th {\n",
              "        vertical-align: top;\n",
              "    }\n",
              "\n",
              "    .dataframe thead th {\n",
              "        text-align: right;\n",
              "    }\n",
              "</style>\n",
              "<table border=\"1\" class=\"dataframe\">\n",
              "  <thead>\n",
              "    <tr style=\"text-align: right;\">\n",
              "      <th></th>\n",
              "      <th>name</th>\n",
              "      <th>id</th>\n",
              "      <th>nametype</th>\n",
              "      <th>recclass</th>\n",
              "      <th>mass (g)</th>\n",
              "      <th>fall</th>\n",
              "      <th>year</th>\n",
              "      <th>reclat</th>\n",
              "      <th>reclong</th>\n",
              "      <th>GeoLocation</th>\n",
              "    </tr>\n",
              "  </thead>\n",
              "  <tbody>\n",
              "    <tr>\n",
              "      <th>29</th>\n",
              "      <td>Allende</td>\n",
              "      <td>2278</td>\n",
              "      <td>Valid</td>\n",
              "      <td>CV3</td>\n",
              "      <td>2000000.0</td>\n",
              "      <td>Fell</td>\n",
              "      <td>01/01/1969 12:00:00 AM</td>\n",
              "      <td>26.96667</td>\n",
              "      <td>-105.31667</td>\n",
              "      <td>(26.96667, -105.31667)</td>\n",
              "    </tr>\n",
              "    <tr>\n",
              "      <th>419</th>\n",
              "      <td>Jilin</td>\n",
              "      <td>12171</td>\n",
              "      <td>Valid</td>\n",
              "      <td>H5</td>\n",
              "      <td>4000000.0</td>\n",
              "      <td>Fell</td>\n",
              "      <td>01/01/1976 12:00:00 AM</td>\n",
              "      <td>44.05000</td>\n",
              "      <td>126.16667</td>\n",
              "      <td>(44.05, 126.16667)</td>\n",
              "    </tr>\n",
              "    <tr>\n",
              "      <th>506</th>\n",
              "      <td>Kunya-Urgench</td>\n",
              "      <td>12379</td>\n",
              "      <td>Valid</td>\n",
              "      <td>H5</td>\n",
              "      <td>1100000.0</td>\n",
              "      <td>Fell</td>\n",
              "      <td>01/01/1998 12:00:00 AM</td>\n",
              "      <td>42.25000</td>\n",
              "      <td>59.20000</td>\n",
              "      <td>(42.25, 59.2)</td>\n",
              "    </tr>\n",
              "    <tr>\n",
              "      <th>707</th>\n",
              "      <td>Norton County</td>\n",
              "      <td>17922</td>\n",
              "      <td>Valid</td>\n",
              "      <td>Aubrite</td>\n",
              "      <td>1100000.0</td>\n",
              "      <td>Fell</td>\n",
              "      <td>01/01/1948 12:00:00 AM</td>\n",
              "      <td>39.68333</td>\n",
              "      <td>-99.86667</td>\n",
              "      <td>(39.68333, -99.86667)</td>\n",
              "    </tr>\n",
              "    <tr>\n",
              "      <th>920</th>\n",
              "      <td>Sikhote-Alin</td>\n",
              "      <td>23593</td>\n",
              "      <td>Valid</td>\n",
              "      <td>Iron, IIAB</td>\n",
              "      <td>23000000.0</td>\n",
              "      <td>Fell</td>\n",
              "      <td>01/01/1947 12:00:00 AM</td>\n",
              "      <td>46.16000</td>\n",
              "      <td>134.65333</td>\n",
              "      <td>(46.16, 134.65333)</td>\n",
              "    </tr>\n",
              "  </tbody>\n",
              "</table>\n",
              "</div>"
            ],
            "text/plain": [
              "              name     id nametype    recclass    mass (g)  fall  \\\n",
              "29         Allende   2278    Valid         CV3   2000000.0  Fell   \n",
              "419          Jilin  12171    Valid          H5   4000000.0  Fell   \n",
              "506  Kunya-Urgench  12379    Valid          H5   1100000.0  Fell   \n",
              "707  Norton County  17922    Valid     Aubrite   1100000.0  Fell   \n",
              "920   Sikhote-Alin  23593    Valid  Iron, IIAB  23000000.0  Fell   \n",
              "\n",
              "                       year    reclat    reclong             GeoLocation  \n",
              "29   01/01/1969 12:00:00 AM  26.96667 -105.31667  (26.96667, -105.31667)  \n",
              "419  01/01/1976 12:00:00 AM  44.05000  126.16667      (44.05, 126.16667)  \n",
              "506  01/01/1998 12:00:00 AM  42.25000   59.20000           (42.25, 59.2)  \n",
              "707  01/01/1948 12:00:00 AM  39.68333  -99.86667   (39.68333, -99.86667)  \n",
              "920  01/01/1947 12:00:00 AM  46.16000  134.65333      (46.16, 134.65333)  "
            ]
          },
          "execution_count": 23,
          "metadata": {},
          "output_type": "execute_result"
        }
      ],
      "source": [
        "meteorites.query(\"`mass (g)` > 1e6 and fall == 'Fell'\")"
      ]
    },
    {
      "cell_type": "markdown",
      "id": "869e853c-9073-49fb-beb6-05a84c882d54",
      "metadata": {
        "editable": true,
        "tags": [],
        "id": "869e853c-9073-49fb-beb6-05a84c882d54"
      },
      "source": [
        "*Tip: Here, we can use both logical operators and bitwise operators.*"
      ]
    },
    {
      "cell_type": "markdown",
      "id": "619cd5be-db0e-4ce6-99fb-1ebe6328e693",
      "metadata": {
        "editable": true,
        "tags": [],
        "id": "619cd5be-db0e-4ce6-99fb-1ebe6328e693"
      },
      "source": [
        "## Calculating summary statistics\n",
        "\n",
        "In the next section of this workshop, we will discuss data cleaning for a more meaningful analysis of our datasets; however, we can already extract some interesting insights from the `meteorites` data by calculating summary statistics."
      ]
    },
    {
      "cell_type": "markdown",
      "id": "2e45f672-cb84-4718-a9f1-6e7abf16252e",
      "metadata": {
        "editable": true,
        "tags": [],
        "id": "2e45f672-cb84-4718-a9f1-6e7abf16252e"
      },
      "source": [
        "#### How many of the meteorites were found versus observed falling?"
      ]
    },
    {
      "cell_type": "code",
      "execution_count": null,
      "id": "01433b12-c3f2-4680-a654-bb20bc8c2157",
      "metadata": {
        "editable": true,
        "tags": [],
        "id": "01433b12-c3f2-4680-a654-bb20bc8c2157",
        "outputId": "39e00609-c3ab-4e43-8339-414c0f350329"
      },
      "outputs": [
        {
          "data": {
            "text/plain": [
              "fall\n",
              "Found    44609\n",
              "Fell      1107\n",
              "Name: count, dtype: int64"
            ]
          },
          "execution_count": 24,
          "metadata": {},
          "output_type": "execute_result"
        }
      ],
      "source": [
        "meteorites.fall.value_counts()"
      ]
    },
    {
      "cell_type": "markdown",
      "id": "8bb359ac-5f70-4b67-ac45-93641d76c516",
      "metadata": {
        "editable": true,
        "tags": [],
        "id": "8bb359ac-5f70-4b67-ac45-93641d76c516"
      },
      "source": [
        "[The Meteoritical Society states](https://www.lpi.usra.edu/meteor/metbull.php?code=56147) that \"relict meteorites are composed mostly of terrestrial minerals, but are thought to have once been meteorites.\" What proportion of the data are relict meteorites? Let's verify these were all found versus observed falling:"
      ]
    },
    {
      "cell_type": "code",
      "execution_count": null,
      "id": "5e636ee2-0523-43bd-bd11-89424268868b",
      "metadata": {
        "editable": true,
        "tags": [],
        "id": "5e636ee2-0523-43bd-bd11-89424268868b",
        "outputId": "fd277fe2-a178-4eef-eacc-957fa2b6ba4a"
      },
      "outputs": [
        {
          "data": {
            "text/plain": [
              "nametype  fall \n",
              "Valid     Found    0.974145\n",
              "          Fell     0.024215\n",
              "Relict    Found    0.001641\n",
              "Name: proportion, dtype: float64"
            ]
          },
          "execution_count": 25,
          "metadata": {},
          "output_type": "execute_result"
        }
      ],
      "source": [
        "meteorites.value_counts(subset=['nametype', 'fall'], normalize=True)"
      ]
    },
    {
      "cell_type": "markdown",
      "id": "ef8f5c35-57e4-4347-845e-39fa4de28075",
      "metadata": {
        "editable": true,
        "tags": [],
        "id": "ef8f5c35-57e4-4347-845e-39fa4de28075"
      },
      "source": [
        "#### What was the mass of the average meterorite?"
      ]
    },
    {
      "cell_type": "code",
      "execution_count": null,
      "id": "b998653e-02dd-4540-ba66-dbc4b458b558",
      "metadata": {
        "editable": true,
        "tags": [],
        "id": "b998653e-02dd-4540-ba66-dbc4b458b558",
        "outputId": "1b27cb09-247e-421e-a927-45d0eb59101a"
      },
      "outputs": [
        {
          "data": {
            "text/plain": [
              "np.float64(13278.078548601512)"
            ]
          },
          "execution_count": 26,
          "metadata": {},
          "output_type": "execute_result"
        }
      ],
      "source": [
        "meteorites['mass (g)'].mean()"
      ]
    },
    {
      "cell_type": "markdown",
      "id": "a398ecbe-10cc-4498-a7f1-91ea0bc736d2",
      "metadata": {
        "editable": true,
        "tags": [],
        "id": "a398ecbe-10cc-4498-a7f1-91ea0bc736d2"
      },
      "source": [
        "**Important**: The mean isn't always the best measure of central tendency. If there are outliers in the distribution, the mean will be skewed. Here, the mean is being pulled higher by some very heavy meteorites &ndash; the distribution is [right-skewed](https://www.analyticsvidhya.com/blog/2020/07/what-is-skewness-statistics/)."
      ]
    },
    {
      "cell_type": "markdown",
      "id": "7b0162c6-f48f-4687-9902-72325ebecc0d",
      "metadata": {
        "editable": true,
        "tags": [],
        "id": "7b0162c6-f48f-4687-9902-72325ebecc0d"
      },
      "source": [
        "Taking a look at some quantiles at the extremes of the distribution shows that the mean is between the 95th and 99th percentile of the distribution, so it isn't a good measure of central tendency here:"
      ]
    },
    {
      "cell_type": "code",
      "execution_count": null,
      "id": "b7379492-da17-4358-b357-2ae6e1a26e67",
      "metadata": {
        "editable": true,
        "tags": [],
        "id": "b7379492-da17-4358-b357-2ae6e1a26e67",
        "outputId": "29fe4a12-fadd-480a-cb9c-c701f3f036fe"
      },
      "outputs": [
        {
          "data": {
            "text/plain": [
              "0.01        0.44\n",
              "0.05        1.10\n",
              "0.50       32.60\n",
              "0.95     4000.00\n",
              "0.99    50600.00\n",
              "Name: mass (g), dtype: float64"
            ]
          },
          "execution_count": 27,
          "metadata": {},
          "output_type": "execute_result"
        }
      ],
      "source": [
        "meteorites['mass (g)'].quantile([0.01, 0.05, 0.5, 0.95, 0.99])"
      ]
    },
    {
      "cell_type": "markdown",
      "id": "2ca1c739-cf2b-4000-bedb-b66a3d11f071",
      "metadata": {
        "editable": true,
        "tags": [],
        "id": "2ca1c739-cf2b-4000-bedb-b66a3d11f071"
      },
      "source": [
        "A better measure in this case is the median (50th percentile), since it is robust to outliers:"
      ]
    },
    {
      "cell_type": "code",
      "execution_count": null,
      "id": "bc2e62f3-899d-4a50-a2f4-8b2e73e1bc2f",
      "metadata": {
        "editable": true,
        "tags": [],
        "id": "bc2e62f3-899d-4a50-a2f4-8b2e73e1bc2f",
        "outputId": "e6c3f649-54b7-4871-84ba-3c4b2209b437"
      },
      "outputs": [
        {
          "data": {
            "text/plain": [
              "np.float64(32.6)"
            ]
          },
          "execution_count": 28,
          "metadata": {},
          "output_type": "execute_result"
        }
      ],
      "source": [
        "meteorites['mass (g)'].median()"
      ]
    },
    {
      "cell_type": "markdown",
      "id": "eebd8f14-f25b-453e-8d74-6e4b4d57aea2",
      "metadata": {
        "editable": true,
        "tags": [],
        "id": "eebd8f14-f25b-453e-8d74-6e4b4d57aea2"
      },
      "source": [
        "#### What was the mass of the heaviest meteorite?"
      ]
    },
    {
      "cell_type": "code",
      "execution_count": null,
      "id": "585af605-e601-49b6-bd1f-4838ab993302",
      "metadata": {
        "editable": true,
        "tags": [],
        "id": "585af605-e601-49b6-bd1f-4838ab993302",
        "outputId": "d77036e4-7fc8-40bb-95eb-47a64b0906d9"
      },
      "outputs": [
        {
          "data": {
            "text/plain": [
              "np.float64(60000000.0)"
            ]
          },
          "execution_count": 29,
          "metadata": {},
          "output_type": "execute_result"
        }
      ],
      "source": [
        "meteorites['mass (g)'].max()"
      ]
    },
    {
      "cell_type": "markdown",
      "id": "6cb28eaf-0850-48f6-87c9-db3d8327e759",
      "metadata": {
        "editable": true,
        "tags": [],
        "id": "6cb28eaf-0850-48f6-87c9-db3d8327e759"
      },
      "source": [
        "Let's extract the information on this meteorite:"
      ]
    },
    {
      "cell_type": "code",
      "execution_count": null,
      "id": "29720ccc-3855-42f7-a0d0-e41a83cf1bef",
      "metadata": {
        "editable": true,
        "tags": [],
        "id": "29720ccc-3855-42f7-a0d0-e41a83cf1bef",
        "outputId": "c8822de6-cddb-439f-fc9e-6faef5c7a9f6"
      },
      "outputs": [
        {
          "data": {
            "text/plain": [
              "name                             Hoba\n",
              "id                              11890\n",
              "nametype                        Valid\n",
              "recclass                    Iron, IVB\n",
              "mass (g)                   60000000.0\n",
              "fall                            Found\n",
              "year           01/01/1920 12:00:00 AM\n",
              "reclat                      -19.58333\n",
              "reclong                      17.91667\n",
              "GeoLocation     (-19.58333, 17.91667)\n",
              "Name: 16392, dtype: object"
            ]
          },
          "execution_count": 30,
          "metadata": {},
          "output_type": "execute_result"
        }
      ],
      "source": [
        "meteorites.loc[meteorites['mass (g)'].idxmax()]"
      ]
    },
    {
      "cell_type": "markdown",
      "id": "f2deea52-a1f9-4b5f-80bb-5074862783ec",
      "metadata": {
        "editable": true,
        "tags": [],
        "id": "f2deea52-a1f9-4b5f-80bb-5074862783ec"
      },
      "source": [
        "#### How many different types of meteorite classes are represented in this dataset?"
      ]
    },
    {
      "cell_type": "code",
      "execution_count": null,
      "id": "79c2a1db-0eeb-4173-964a-a38741c059ba",
      "metadata": {
        "editable": true,
        "tags": [],
        "id": "79c2a1db-0eeb-4173-964a-a38741c059ba",
        "outputId": "627af9f1-5b16-4b54-d06d-146967eb55e5"
      },
      "outputs": [
        {
          "data": {
            "text/plain": [
              "466"
            ]
          },
          "execution_count": 31,
          "metadata": {},
          "output_type": "execute_result"
        }
      ],
      "source": [
        "meteorites.recclass.nunique()"
      ]
    },
    {
      "cell_type": "markdown",
      "id": "0c0929d1-d296-4e11-89fb-7f3e707be732",
      "metadata": {
        "editable": true,
        "tags": [],
        "id": "0c0929d1-d296-4e11-89fb-7f3e707be732"
      },
      "source": [
        "Some examples:"
      ]
    },
    {
      "cell_type": "code",
      "execution_count": null,
      "id": "3ac57de5-7734-478a-9772-feb82890d5ef",
      "metadata": {
        "editable": true,
        "tags": [],
        "id": "3ac57de5-7734-478a-9772-feb82890d5ef",
        "outputId": "c6edc15f-b8e9-4ab5-add7-19632327aaa0"
      },
      "outputs": [
        {
          "data": {
            "text/plain": [
              "array(['L5', 'H6', 'EH4', 'Acapulcoite', 'L6', 'LL3-6', 'H5', 'L',\n",
              "       'Diogenite-pm', 'Unknown', 'H4', 'H', 'Iron, IVA', 'CR2-an'],\n",
              "      dtype=object)"
            ]
          },
          "execution_count": 32,
          "metadata": {},
          "output_type": "execute_result"
        }
      ],
      "source": [
        "meteorites.recclass.unique()[:14]"
      ]
    },
    {
      "cell_type": "markdown",
      "id": "1e0eecb1-a224-44b4-bde2-79d794a7eca8",
      "metadata": {
        "editable": true,
        "tags": [],
        "id": "1e0eecb1-a224-44b4-bde2-79d794a7eca8"
      },
      "source": [
        "*Note: All fields preceded with \"rec\" are the values recommended by The Meteoritical Society. Check out [this Wikipedia article](https://en.wikipedia.org/wiki/Meteorite_classification) for some information on meteorite classes.*"
      ]
    },
    {
      "cell_type": "markdown",
      "id": "a0755e36-3761-4eb1-a91d-0d6abe9e672f",
      "metadata": {
        "editable": true,
        "tags": [],
        "id": "a0755e36-3761-4eb1-a91d-0d6abe9e672f"
      },
      "source": [
        "#### Get some summary statistics on the data itself\n",
        "We can get common summary statistics for all columns at once. By default, this will only be numeric columns, but here, we will summarize everything together:"
      ]
    },
    {
      "cell_type": "code",
      "execution_count": null,
      "id": "f0297d45-1d86-411f-ad8e-74cfaa3b2389",
      "metadata": {
        "editable": true,
        "tags": [],
        "id": "f0297d45-1d86-411f-ad8e-74cfaa3b2389",
        "outputId": "aadd9780-bf9c-490d-dc21-08de14bfa3a2"
      },
      "outputs": [
        {
          "data": {
            "text/html": [
              "<div>\n",
              "<style scoped>\n",
              "    .dataframe tbody tr th:only-of-type {\n",
              "        vertical-align: middle;\n",
              "    }\n",
              "\n",
              "    .dataframe tbody tr th {\n",
              "        vertical-align: top;\n",
              "    }\n",
              "\n",
              "    .dataframe thead th {\n",
              "        text-align: right;\n",
              "    }\n",
              "</style>\n",
              "<table border=\"1\" class=\"dataframe\">\n",
              "  <thead>\n",
              "    <tr style=\"text-align: right;\">\n",
              "      <th></th>\n",
              "      <th>name</th>\n",
              "      <th>id</th>\n",
              "      <th>nametype</th>\n",
              "      <th>recclass</th>\n",
              "      <th>mass (g)</th>\n",
              "      <th>fall</th>\n",
              "      <th>year</th>\n",
              "      <th>reclat</th>\n",
              "      <th>reclong</th>\n",
              "      <th>GeoLocation</th>\n",
              "    </tr>\n",
              "  </thead>\n",
              "  <tbody>\n",
              "    <tr>\n",
              "      <th>count</th>\n",
              "      <td>45716</td>\n",
              "      <td>45716.000000</td>\n",
              "      <td>45716</td>\n",
              "      <td>45716</td>\n",
              "      <td>4.558500e+04</td>\n",
              "      <td>45716</td>\n",
              "      <td>45425</td>\n",
              "      <td>38401.000000</td>\n",
              "      <td>38401.000000</td>\n",
              "      <td>38401</td>\n",
              "    </tr>\n",
              "    <tr>\n",
              "      <th>unique</th>\n",
              "      <td>45716</td>\n",
              "      <td>NaN</td>\n",
              "      <td>2</td>\n",
              "      <td>466</td>\n",
              "      <td>NaN</td>\n",
              "      <td>2</td>\n",
              "      <td>266</td>\n",
              "      <td>NaN</td>\n",
              "      <td>NaN</td>\n",
              "      <td>17100</td>\n",
              "    </tr>\n",
              "    <tr>\n",
              "      <th>top</th>\n",
              "      <td>Aachen</td>\n",
              "      <td>NaN</td>\n",
              "      <td>Valid</td>\n",
              "      <td>L6</td>\n",
              "      <td>NaN</td>\n",
              "      <td>Found</td>\n",
              "      <td>01/01/2003 12:00:00 AM</td>\n",
              "      <td>NaN</td>\n",
              "      <td>NaN</td>\n",
              "      <td>(0.0, 0.0)</td>\n",
              "    </tr>\n",
              "    <tr>\n",
              "      <th>freq</th>\n",
              "      <td>1</td>\n",
              "      <td>NaN</td>\n",
              "      <td>45641</td>\n",
              "      <td>8285</td>\n",
              "      <td>NaN</td>\n",
              "      <td>44609</td>\n",
              "      <td>3323</td>\n",
              "      <td>NaN</td>\n",
              "      <td>NaN</td>\n",
              "      <td>6214</td>\n",
              "    </tr>\n",
              "    <tr>\n",
              "      <th>mean</th>\n",
              "      <td>NaN</td>\n",
              "      <td>26889.735104</td>\n",
              "      <td>NaN</td>\n",
              "      <td>NaN</td>\n",
              "      <td>1.327808e+04</td>\n",
              "      <td>NaN</td>\n",
              "      <td>NaN</td>\n",
              "      <td>-39.122580</td>\n",
              "      <td>61.074319</td>\n",
              "      <td>NaN</td>\n",
              "    </tr>\n",
              "    <tr>\n",
              "      <th>std</th>\n",
              "      <td>NaN</td>\n",
              "      <td>16860.683030</td>\n",
              "      <td>NaN</td>\n",
              "      <td>NaN</td>\n",
              "      <td>5.749889e+05</td>\n",
              "      <td>NaN</td>\n",
              "      <td>NaN</td>\n",
              "      <td>46.378511</td>\n",
              "      <td>80.647298</td>\n",
              "      <td>NaN</td>\n",
              "    </tr>\n",
              "    <tr>\n",
              "      <th>min</th>\n",
              "      <td>NaN</td>\n",
              "      <td>1.000000</td>\n",
              "      <td>NaN</td>\n",
              "      <td>NaN</td>\n",
              "      <td>0.000000e+00</td>\n",
              "      <td>NaN</td>\n",
              "      <td>NaN</td>\n",
              "      <td>-87.366670</td>\n",
              "      <td>-165.433330</td>\n",
              "      <td>NaN</td>\n",
              "    </tr>\n",
              "    <tr>\n",
              "      <th>25%</th>\n",
              "      <td>NaN</td>\n",
              "      <td>12688.750000</td>\n",
              "      <td>NaN</td>\n",
              "      <td>NaN</td>\n",
              "      <td>7.200000e+00</td>\n",
              "      <td>NaN</td>\n",
              "      <td>NaN</td>\n",
              "      <td>-76.714240</td>\n",
              "      <td>0.000000</td>\n",
              "      <td>NaN</td>\n",
              "    </tr>\n",
              "    <tr>\n",
              "      <th>50%</th>\n",
              "      <td>NaN</td>\n",
              "      <td>24261.500000</td>\n",
              "      <td>NaN</td>\n",
              "      <td>NaN</td>\n",
              "      <td>3.260000e+01</td>\n",
              "      <td>NaN</td>\n",
              "      <td>NaN</td>\n",
              "      <td>-71.500000</td>\n",
              "      <td>35.666670</td>\n",
              "      <td>NaN</td>\n",
              "    </tr>\n",
              "    <tr>\n",
              "      <th>75%</th>\n",
              "      <td>NaN</td>\n",
              "      <td>40656.750000</td>\n",
              "      <td>NaN</td>\n",
              "      <td>NaN</td>\n",
              "      <td>2.026000e+02</td>\n",
              "      <td>NaN</td>\n",
              "      <td>NaN</td>\n",
              "      <td>0.000000</td>\n",
              "      <td>157.166670</td>\n",
              "      <td>NaN</td>\n",
              "    </tr>\n",
              "    <tr>\n",
              "      <th>max</th>\n",
              "      <td>NaN</td>\n",
              "      <td>57458.000000</td>\n",
              "      <td>NaN</td>\n",
              "      <td>NaN</td>\n",
              "      <td>6.000000e+07</td>\n",
              "      <td>NaN</td>\n",
              "      <td>NaN</td>\n",
              "      <td>81.166670</td>\n",
              "      <td>354.473330</td>\n",
              "      <td>NaN</td>\n",
              "    </tr>\n",
              "  </tbody>\n",
              "</table>\n",
              "</div>"
            ],
            "text/plain": [
              "          name            id nametype recclass      mass (g)   fall  \\\n",
              "count    45716  45716.000000    45716    45716  4.558500e+04  45716   \n",
              "unique   45716           NaN        2      466           NaN      2   \n",
              "top     Aachen           NaN    Valid       L6           NaN  Found   \n",
              "freq         1           NaN    45641     8285           NaN  44609   \n",
              "mean       NaN  26889.735104      NaN      NaN  1.327808e+04    NaN   \n",
              "std        NaN  16860.683030      NaN      NaN  5.749889e+05    NaN   \n",
              "min        NaN      1.000000      NaN      NaN  0.000000e+00    NaN   \n",
              "25%        NaN  12688.750000      NaN      NaN  7.200000e+00    NaN   \n",
              "50%        NaN  24261.500000      NaN      NaN  3.260000e+01    NaN   \n",
              "75%        NaN  40656.750000      NaN      NaN  2.026000e+02    NaN   \n",
              "max        NaN  57458.000000      NaN      NaN  6.000000e+07    NaN   \n",
              "\n",
              "                          year        reclat       reclong GeoLocation  \n",
              "count                    45425  38401.000000  38401.000000       38401  \n",
              "unique                     266           NaN           NaN       17100  \n",
              "top     01/01/2003 12:00:00 AM           NaN           NaN  (0.0, 0.0)  \n",
              "freq                      3323           NaN           NaN        6214  \n",
              "mean                       NaN    -39.122580     61.074319         NaN  \n",
              "std                        NaN     46.378511     80.647298         NaN  \n",
              "min                        NaN    -87.366670   -165.433330         NaN  \n",
              "25%                        NaN    -76.714240      0.000000         NaN  \n",
              "50%                        NaN    -71.500000     35.666670         NaN  \n",
              "75%                        NaN      0.000000    157.166670         NaN  \n",
              "max                        NaN     81.166670    354.473330         NaN  "
            ]
          },
          "execution_count": 33,
          "metadata": {},
          "output_type": "execute_result"
        }
      ],
      "source": [
        "meteorites.describe(include='all')"
      ]
    },
    {
      "cell_type": "markdown",
      "id": "96e7cd90-e515-4068-ae66-f4d2bcab6712",
      "metadata": {
        "editable": true,
        "tags": [],
        "id": "96e7cd90-e515-4068-ae66-f4d2bcab6712"
      },
      "source": [
        "**Important**: `NaN` values signify missing data. For instance, the `fall` column contains strings, so there is no value for `mean`; likewise, `mass (g)` is numeric, so we don't have entries for the categorical summary statistics (`unique`, `top`, `freq`)."
      ]
    },
    {
      "cell_type": "markdown",
      "id": "7b290818-09d8-4646-94e3-b14f88d25b43",
      "metadata": {
        "editable": true,
        "tags": [],
        "id": "7b290818-09d8-4646-94e3-b14f88d25b43"
      },
      "source": [
        "#### Check out the documentation for more descriptive statistics:\n",
        "\n",
        "- [Series](https://pandas.pydata.org/docs/reference/series.html#computations-descriptive-stats)\n",
        "- [DataFrame](https://pandas.pydata.org/docs/reference/frame.html#computations-descriptive-stats)"
      ]
    },
    {
      "cell_type": "markdown",
      "id": "5f26b130-6bc5-47ca-81f2-b977cfd8ef85",
      "metadata": {
        "editable": true,
        "tags": [],
        "id": "5f26b130-6bc5-47ca-81f2-b977cfd8ef85"
      },
      "source": [
        "### [Exercise 1.3](./workbook.ipynb#Exercise-1.3)\n",
        "\n",
        "##### Using the data in the `2019_Yellow_Taxi_Trip_Data.csv` file, calculate summary statistics for the `fare_amount`, `tip_amount`, `tolls_amount`, and `total_amount` columns."
      ]
    },
    {
      "cell_type": "code",
      "execution_count": null,
      "id": "876cafcb-00ab-4f5a-8b3c-bfead4f0b14c",
      "metadata": {
        "editable": true,
        "tags": [],
        "id": "876cafcb-00ab-4f5a-8b3c-bfead4f0b14c"
      },
      "outputs": [],
      "source": [
        "# Complete this exercise in the workbook.ipynb file\n",
        "# Click on `Exercise 1.3` above to open the workbook.ipynb file"
      ]
    },
    {
      "cell_type": "markdown",
      "id": "19fa9e6a-d1e5-4202-ba94-6fa5c8bbe5f7",
      "metadata": {
        "editable": true,
        "tags": [],
        "id": "19fa9e6a-d1e5-4202-ba94-6fa5c8bbe5f7"
      },
      "source": [
        "### [Exercise 1.4](./workbook.ipynb#Exercise-1.4)\n",
        "\n",
        "##### Isolate the `fare_amount`, `tip_amount`, `tolls_amount`, and `total_amount` for the longest trip by distance (`trip_distance`)."
      ]
    },
    {
      "cell_type": "code",
      "execution_count": null,
      "id": "6402bb24-3da9-48e5-bde1-0b8a9576f00d",
      "metadata": {
        "editable": true,
        "tags": [],
        "id": "6402bb24-3da9-48e5-bde1-0b8a9576f00d"
      },
      "outputs": [],
      "source": [
        "# Complete this exercise in the workbook.ipynb file\n",
        "# Click on `Exercise 1.4` above to open the workbook.ipynb file"
      ]
    },
    {
      "cell_type": "markdown",
      "id": "68c8ccd0-3a3d-4fab-86c1-fd5a136f0540",
      "metadata": {
        "editable": true,
        "tags": [],
        "id": "68c8ccd0-3a3d-4fab-86c1-fd5a136f0540"
      },
      "source": [
        "## Up Next: [Data Wrangling](./2-data_wrangling.ipynb)"
      ]
    }
  ],
  "metadata": {
    "kernelspec": {
      "display_name": "Python 3 (ipykernel)",
      "language": "python",
      "name": "python3"
    },
    "language_info": {
      "codemirror_mode": {
        "name": "ipython",
        "version": 3
      },
      "file_extension": ".py",
      "mimetype": "text/x-python",
      "name": "python",
      "nbconvert_exporter": "python",
      "pygments_lexer": "ipython3",
      "version": "3.12.4"
    },
    "colab": {
      "provenance": []
    }
  },
  "nbformat": 4,
  "nbformat_minor": 5
}